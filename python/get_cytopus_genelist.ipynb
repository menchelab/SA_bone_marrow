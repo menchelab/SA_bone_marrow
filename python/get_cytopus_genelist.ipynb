{
 "cells": [
  {
   "cell_type": "code",
   "execution_count": 1,
   "id": "361b5332-6acb-4e48-98d2-a55d7073c7d3",
   "metadata": {},
   "outputs": [
    {
     "name": "stdout",
     "output_type": "stream",
     "text": [
      "KnowledgeBase object containing 92 cell types and 201 cellular processes\n",
      "\n"
     ]
    }
   ],
   "source": [
    "import cytopus as cp\n",
    "G = cp.KnowledgeBase()"
   ]
  },
  {
   "cell_type": "code",
   "execution_count": 19,
   "id": "1f74665d-7ffb-4ad1-9f09-390baf90c6ab",
   "metadata": {},
   "outputs": [
    {
     "data": {
      "text/plain": [
       "dict_keys(['TCM', 'Treg', 'T-naive', 'B-pb-t2', 'endo-lymphatic', 'TSCM', 'cDC1', 'ILC1', 'NK-adaptive', 'TEM', 'FDC', 'endo-systemic-venous', 'endo-aerocyte', 'CD56bright-NK', 'plasma-blast', 'CD8-T_KLRG1pos-effector', 'p-DC', 'mast', 'B-memory-DN', 'B-naive', 'CD4-T', 'B-pb-t3', 'B', 'B-pb-mature', 'Mac', 'gran', 'cDC2', 'CD56dim-NK', 'TRM', 'Lti', 'ILC3-NCRpos', 'abT', 'TFH', 'mono', 'CD8-T_KLRG1neg-effector', 'B-memory-IgM-MZ', 'cDC3', 'B-memory-switched', 'ILC3-NCRneg', 'Langerhans', 'mo-DC', 'endo-arterial', 'ILC2', 'plasma', 'B-pb-t1', 'lung-endo-venous', 'gdT', 'NK', 'capillary', 'CD8-T', 'B-memory', 'B-memory-non-switched', 'GC-B'])"
      ]
     },
     "execution_count": 19,
     "metadata": {},
     "output_type": "execute_result"
    }
   ],
   "source": [
    "G.identities.keys()"
   ]
  },
  {
   "cell_type": "code",
   "execution_count": 20,
   "id": "b94f5828-b458-44e0-8597-843320646a07",
   "metadata": {},
   "outputs": [
    {
     "name": "stdout",
     "output_type": "stream",
     "text": [
      "Files created successfully!\n"
     ]
    }
   ],
   "source": [
    "for celltype, genes in G.identities.items():\n",
    "    # Open the file in write mode\n",
    "    with open(\"./cytopus_cell_types/\" + celltype.replace(\" \", \"_\") + \".dat\", 'w') as f:\n",
    "        # Write each line in the list to the file\n",
    "        for gene in genes:\n",
    "            f.write(gene + '\\n')  # Add a newline after each line"
   ]
  }
 ],
 "metadata": {
  "kernelspec": {
   "display_name": "Python 3 (ipykernel)",
   "language": "python",
   "name": "python3"
  },
  "language_info": {
   "codemirror_mode": {
    "name": "ipython",
    "version": 3
   },
   "file_extension": ".py",
   "mimetype": "text/x-python",
   "name": "python",
   "nbconvert_exporter": "python",
   "pygments_lexer": "ipython3",
   "version": "3.12.2"
  }
 },
 "nbformat": 4,
 "nbformat_minor": 5
}
