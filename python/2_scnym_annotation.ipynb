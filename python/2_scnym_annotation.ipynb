{
 "cells": [
  {
   "cell_type": "markdown",
   "id": "8c4d6d27-282c-49fe-95c3-20d6f90c7f35",
   "metadata": {},
   "source": [
    "## Loading the packages"
   ]
  },
  {
   "cell_type": "code",
   "execution_count": null,
   "id": "ec1936a9",
   "metadata": {},
   "outputs": [],
   "source": [
    "import scvi\n",
    "import numpy as np\n",
    "import pandas as pd\n",
    "import os\n",
    "\n",
    "import scanpy as sc\n",
    "from anndata import AnnData, concat\n",
    "from matplotlib.transforms import Bbox\n",
    "\n",
    "# from scvi.model.utils import mde\n",
    "\n",
    "\n",
    "from matplotlib import pyplot as plt\n",
    "from matplotlib import colors\n",
    "from matplotlib import cm\n",
    "import seaborn as sns\n",
    "\n",
    "from scipy import sparse\n",
    "import gc\n",
    "from upsetplot import plot as UpSet\n",
    "from itertools import product\n",
    "import networkx as nx\n",
    "\n",
    "from scipy.cluster import hierarchy\n",
    "\n",
    "import re\n",
    "import subprocess\n",
    "\n",
    "import h5py\n",
    "\n",
    "import itertools\n",
    "\n",
    "from scnym.api import scnym_api\n",
    "\n",
    "import pymn\n",
    "import random \n",
    "from collections import Counter"
   ]
  },
  {
   "cell_type": "code",
   "execution_count": null,
   "id": "4449bd1d",
   "metadata": {},
   "outputs": [],
   "source": [
    "# import tensorflow as tf\n",
    "# import tensorboard as tb\n",
    "# tf.io.gfile = tb.compat.tensorflow_stub.io.gfile\n",
    "\n",
    "pd.set_option('display.max_columns', 500)"
   ]
  },
  {
   "cell_type": "code",
   "execution_count": null,
   "id": "3d83ba59",
   "metadata": {},
   "outputs": [],
   "source": [
    "def read_preprocess_data(input_h5):\n",
    "    input_adata = sc.read_10x_h5(input_h5)\n",
    "    input_adata.var_names_make_unique()\n",
    "    sc.pp.normalize_total(input_adata, target_sum = 1e6)\n",
    "    sc.pp.log1p(input_adata)\n",
    "    sc.pp.highly_variable_genes(input_adata, n_top_genes=3000)\n",
    "    sc.pp.pca(input_adata)\n",
    "    sc.pp.neighbors(input_adata)\n",
    "    sc.tl.umap(input_adata)\n",
    "    return(input_adata)\n",
    "\n",
    "def full_extent(ax, pad=0.0):\n",
    "    \"\"\"Get the full extent of an axes, including axes labels, tick labels, and\n",
    "    titles.\"\"\"\n",
    "    # For text objects, we need to draw the figure first, otherwise the extents\n",
    "    # are undefined.\n",
    "    ax.figure.canvas.draw()\n",
    "    items = ax.get_xticklabels() + ax.get_yticklabels() \n",
    "#    items += [ax, ax.title, ax.xaxis.label, ax.yaxis.label]\n",
    "    items += [ax, ax.title]\n",
    "    bbox = Bbox.union([item.get_window_extent() for item in items])\n",
    "\n",
    "    return bbox.expanded(1.0 + pad, 1.0 + pad)\n",
    "\n",
    "def set_max_score (rec_arr, max_score = 20):\n",
    "    rec_mod = np.copy(rec_arr)\n",
    "    for i in range(len(rec_arr)):\n",
    "            for j in range(len(rec_mod[i])):\n",
    "                    if rec_mod[i][j] > max_score:\n",
    "                        rec_mod[i][j] = max_score\n",
    "    return(rec_mod)\n"
   ]
  },
  {
   "cell_type": "code",
   "execution_count": null,
   "id": "6fa1ab29",
   "metadata": {},
   "outputs": [],
   "source": [
    "def write_rank_genes_groups_to_excel(adata, excel_path, groups = None):\n",
    "    if groups is None:\n",
    "        groups = adata.uns['rank_genes_groups']['names'].dtype.names\n",
    "    \n",
    "    writer = pd.ExcelWriter(excel_path, engine = 'xlsxwriter')\n",
    "    \n",
    "    for groupid in groups:\n",
    "        group_df = sc.get.rank_genes_groups_df(adata, group=groupid)\n",
    "        group_df.to_excel(writer, sheet_name = groupid)\n",
    "    writer.save()\n",
    "    # writer.close()\n"
   ]
  },
  {
   "cell_type": "code",
   "execution_count": null,
   "id": "662f5603",
   "metadata": {},
   "outputs": [],
   "source": [
    "bm_dir = os.getcwd() + \"/../SA_data\"\n",
    "bmSA_pilot_h5 = bm_dir + \"/MR_30_10X_SA_PBS_BM_22112021_transcriptome\" + \"/filtered_feature_bc_matrix.h5\"\n",
    "bmSA_final_h5 = bm_dir + \"/MR_33_10X_SA_PBS_BM_transcriptome\" + \"/filtered_feature_bc_matrix.h5\"\n"
   ]
  },
  {
   "cell_type": "code",
   "execution_count": null,
   "id": "04fc7029",
   "metadata": {},
   "outputs": [],
   "source": [
    "# bmSA_pilot = read_preprocess_data(bmSA_pilot_h5)\n",
    "# bmSA_final = read_preprocess_data(bmSA_final_h5)"
   ]
  },
  {
   "cell_type": "code",
   "execution_count": null,
   "id": "592eceb0",
   "metadata": {},
   "outputs": [],
   "source": [
    "dataset_fns = [\n",
    "    bmSA_pilot_h5,\n",
    "    bmSA_final_h5,\n",
    "    'mouse_hsc_labeled.loom',\n",
    "    'erythroid_and_monocyte_lineage_adata_no_gaps.loom',\n",
    "    'processed_droplet_data_no_OBSM.loom'\n",
    "]\n",
    "\n",
    "dataset_names =[\n",
    "    'SA_pilot',\n",
    "    'SA_final',\n",
    "    'Mouse_HSC',\n",
    "    'Erythroid_monocyte',\n",
    "    'annotated'\n",
    "]\n",
    "dataset_dict = dict(zip(dataset_names, dataset_fns))\n"
   ]
  },
  {
   "cell_type": "code",
   "execution_count": null,
   "id": "42f5969c",
   "metadata": {},
   "outputs": [],
   "source": [
    "raw_file_dir = \"/users/anna.hakobyan/projects/bone_marrow_sc/mouse_bm_data/input_data/\"\n",
    "# datasets = []\n",
    "for dataset in dataset_dict:\n",
    "    try:\n",
    "        print(dataset)\n",
    "            \n",
    "        if (dataset.startswith(\"SA\")):\n",
    "            adata = read_preprocess_data(dataset_dict[dataset])\n",
    "        else:\n",
    "            adata=sc.read_loom(raw_file_dir + dataset_dict[dataset])\n",
    "            # adata.var_names = adata.var['var_names']\n",
    "            \n",
    "        adata.obs['study_id'] = dataset\n",
    "        datasets.append(adata)\n",
    "    except:\n",
    "        print(dataset + ' Not Found')"
   ]
  },
  {
   "cell_type": "code",
   "execution_count": null,
   "id": "2db029e1",
   "metadata": {},
   "outputs": [],
   "source": [
    "combined_datasets = datasets[-1].concatenate(datasets[:-1])"
   ]
  },
  {
   "cell_type": "code",
   "execution_count": null,
   "id": "f566a168",
   "metadata": {},
   "outputs": [],
   "source": [
    "combined_datasets.obs.cell_ontology_class.fillna('Unlabeled',inplace=True)\n",
    "combined_datasets=combined_datasets[combined_datasets.obs.cell_ontology_class !='nan']"
   ]
  },
  {
   "cell_type": "code",
   "execution_count": null,
   "id": "65ef5865",
   "metadata": {},
   "outputs": [],
   "source": [
    "combined_datasets.obs[\"cell_ontology_class\"].value_counts()"
   ]
  },
  {
   "cell_type": "code",
   "execution_count": null,
   "id": "d7c7d141",
   "metadata": {},
   "outputs": [],
   "source": [
    "cell_mapping = {\"Unlabeled\" : \"Unlabeled\",\n",
    "                \"granulocyte\": \"granulocyte\",\n",
    "                \"hematopoietic precursor cell\" : \"hematopoietic precursor cell\",\n",
    "                \"monocyte\" : \"monocyte\",\n",
    "                \"naive B cell\" : \"B cell\",\n",
    "                \"late pro-B cell\" : \"B cell\",\n",
    "                \"pro-B cell\" : \"B cell\",\n",
    "                \"immature B cell\" : \"B cell\",\n",
    "                \"macrophage\" : \"macrophage\",\n",
    "                \"proerythroblast\" : \"erythroblast\",\n",
    "                \"T cell\" : \"T cell\",\n",
    "                \"erythroblast\" : \"erythroblast\",\n",
    "                \"basophil\" : \"basophil\",\n",
    "                \"immature natural killer cell\" : \"NK cell\",\n",
    "                \"promonocyte\" : \"monocyte\",\n",
    "                \"early pro-B cell\" : \"B cell\",\n",
    "                \"Fraction A pre-pro B cell\" : \"B cell\",\n",
    "                \"granulocytopoietic cell\" : \"granulocyte\",\n",
    "                \"B cell\" : \"B cell\",\n",
    "                \"Slamf1-positive multipotent progenitor cell\" : \"Slamf1-positive multipotent progenitor cell\"}"
   ]
  },
  {
   "cell_type": "code",
   "execution_count": null,
   "id": "4207ffc2",
   "metadata": {},
   "outputs": [],
   "source": [
    "combined_datasets.obs[\"cell_ontology_condensed\"] = combined_datasets.obs[\"cell_ontology_class\"].map(cell_mapping)"
   ]
  },
  {
   "cell_type": "code",
   "execution_count": null,
   "id": "f335ff3f",
   "metadata": {
    "scrolled": true
   },
   "outputs": [],
   "source": [
    "%%time\n",
    "scnym_api(adata=combined_datasets,\n",
    "          task='train',\n",
    "          groupby='cell_ontology_condensed',\n",
    "          out_path='./scnym_output_condensed',\n",
    "          config={\n",
    "              'domain_groupby': 'study_id',\n",
    "              'dan_use_conf_pseudolabels': False,\n",
    "              'pseudolabel_min_confidence':.9\n",
    "          })"
   ]
  },
  {
   "cell_type": "code",
   "execution_count": null,
   "id": "26ec256d",
   "metadata": {},
   "outputs": [],
   "source": [
    "%%time\n",
    "scnym_api(\n",
    "    adata=combined_datasets,\n",
    "    task='predict',\n",
    "    key_added='scNym_condensed',\n",
    "    trained_model='./scnym_output_condensed',\n",
    "    out_path='./scnym_output_condensed',\n",
    "    config='new_identity_discovery'\n",
    ")\n"
   ]
  },
  {
   "cell_type": "markdown",
   "id": "e4524b09",
   "metadata": {},
   "source": []
  },
  {
   "cell_type": "markdown",
   "id": "1541c691",
   "metadata": {},
   "source": [
    "### Writing the annotations"
   ]
  },
  {
   "cell_type": "code",
   "execution_count": null,
   "id": "235dedb7",
   "metadata": {},
   "outputs": [],
   "source": [
    "combined_datasets.obs.to_pickle(\"TM_combined_datasets_SA_ann_obs.plk\")\n",
    "combined_datasets.obs = combined_datasets.obs[[\"study_id\", \"cell_ontology_class\"]]\n",
    "combined_datasets.write(filename = \"TM_combined_datasets_SA_ann.h5ad\")"
   ]
  },
  {
   "cell_type": "markdown",
   "id": "674c16f0",
   "metadata": {},
   "source": [
    "### Reading the annotations"
   ]
  },
  {
   "cell_type": "code",
   "execution_count": null,
   "id": "a70b0f76",
   "metadata": {},
   "outputs": [],
   "source": [
    "### Directory TM_combined_datasets_SA_ann_obs\n",
    "combined_datasets = sc.read_h5ad(filename = \"TM_combined_datasets_SA_ann.h5ad\")\n",
    "obs_plk = pd.read_pickle(\"TM_combined_datasets_SA_ann_obs.plk\")\n",
    "combined_datasets.obs = obs_plk"
   ]
  },
  {
   "cell_type": "code",
   "execution_count": null,
   "id": "1176df17",
   "metadata": {},
   "outputs": [],
   "source": [
    "# combined_datasets.X[:4, :4].todense()"
   ]
  },
  {
   "cell_type": "code",
   "execution_count": null,
   "id": "dc8c65d4",
   "metadata": {},
   "outputs": [],
   "source": [
    "# del(combined_datasets)"
   ]
  },
  {
   "cell_type": "code",
   "execution_count": null,
   "id": "c9b2de02",
   "metadata": {},
   "outputs": [],
   "source": [
    "combined_datasets.obs.boxplot(column = [\"scNym_condensed_confidence\"], by = [\"scNym_condensed\"])\n",
    "plt.xticks(rotation=90)"
   ]
  },
  {
   "cell_type": "code",
   "execution_count": null,
   "id": "fd3628cf",
   "metadata": {},
   "outputs": [],
   "source": [
    "combined_datasets.obs[\"scNym_condensed\"].value_counts()"
   ]
  },
  {
   "cell_type": "markdown",
   "id": "ec1691a2",
   "metadata": {},
   "source": [
    "### Comparing with available annotations"
   ]
  },
  {
   "cell_type": "code",
   "execution_count": null,
   "id": "f949c3f5",
   "metadata": {},
   "outputs": [],
   "source": [
    "hvg = sc.read(\"../output/hvg_integrated.h5ad\")\n",
    "SA_exps = combined_datasets[combined_datasets.obs[\"study_id\"].isin(['SA_pilot', 'SA_final'])]"
   ]
  },
  {
   "cell_type": "code",
   "execution_count": null,
   "id": "028df1e6",
   "metadata": {},
   "outputs": [],
   "source": [
    "hvg.shape"
   ]
  },
  {
   "cell_type": "code",
   "execution_count": null,
   "id": "8cce15d6",
   "metadata": {},
   "outputs": [],
   "source": [
    "hvg_cells = hvg.obs_names\n",
    "SA_exp_names = SA_exps.obs_names\n",
    "\n",
    "SA_hvg_cells = [x for x in SA_exp_names if x[:-2] in hvg_cells]\n",
    "\n",
    "\n",
    "SA_cellname_counts = Counter([x[:-2] for x in SA_hvg_cells])\n",
    "SA_unique_names = [x for x in SA_hvg_cells if SA_cellname_counts[x[:-2]] == 1]\n",
    "\n",
    "\n",
    "SA_exps_subset = SA_exps[SA_unique_names]\n",
    "\n",
    "SA_exps_subset.obs_names = [x[:-2] for x in SA_exps_subset.obs_names]\n",
    "\n",
    "hvg_subset = hvg[SA_exps_subset.obs_names]\n",
    "\n",
    "hvg_subset.obs[\"scNym_condensed\"] = SA_exps_subset.obs[\"scNym_condensed\"]\n",
    "hvg_subset.obs[\"scNym_condensed_confidence\"] = SA_exps_subset.obs[\"scNym_condensed_confidence\"]"
   ]
  },
  {
   "cell_type": "code",
   "execution_count": null,
   "id": "3c7ec9bc",
   "metadata": {},
   "outputs": [],
   "source": [
    "SA_exps_subset.obs_names"
   ]
  },
  {
   "cell_type": "code",
   "execution_count": null,
   "id": "be83145b",
   "metadata": {},
   "outputs": [],
   "source": [
    "sc.pl.umap(SA_exps_subset,\n",
    "    color= ['scNym_condensed', 'study_id']\n",
    "          )"
   ]
  },
  {
   "cell_type": "code",
   "execution_count": null,
   "id": "7e3d19d6",
   "metadata": {},
   "outputs": [],
   "source": [
    "SA_exps.obs['scNym_condensed'].value_counts()"
   ]
  },
  {
   "cell_type": "code",
   "execution_count": null,
   "id": "6770a8ea",
   "metadata": {},
   "outputs": [],
   "source": [
    "SA_exps.obs.boxplot(column = [\"scNym_condensed_confidence\"], by = [\"scNym_condensed\"])\n",
    "plt.xticks(rotation=90)"
   ]
  },
  {
   "cell_type": "code",
   "execution_count": null,
   "id": "11d4efee",
   "metadata": {},
   "outputs": [],
   "source": [
    "hsc_confidence = SA_exps.obs[SA_exps.obs[\"scNym_condensed\"] == \"hematopoietic precursor cell\"][\"scNym_condensed_confidence\"]"
   ]
  },
  {
   "cell_type": "code",
   "execution_count": null,
   "id": "af3ee308",
   "metadata": {},
   "outputs": [],
   "source": [
    "len(hsc_confidence)"
   ]
  },
  {
   "cell_type": "code",
   "execution_count": null,
   "id": "9aa58bac",
   "metadata": {},
   "outputs": [],
   "source": [
    "hvg_subset.obs[\"condition\"] = [x[4:-1] for x in hvg_subset.obs[\"HTO_classification\"]]"
   ]
  },
  {
   "cell_type": "code",
   "execution_count": null,
   "id": "a7b69349",
   "metadata": {},
   "outputs": [],
   "source": [
    "hvg_subset.obs[\"scNym_condensed\"]"
   ]
  },
  {
   "cell_type": "code",
   "execution_count": null,
   "id": "fc7a9d94",
   "metadata": {},
   "outputs": [],
   "source": [
    "hvg_subset.obs.boxplot(column = [\"scNym_condensed_confidence\"], by = [\"scNym_condensed\"])\n",
    "plt.xticks(rotation=90)"
   ]
  },
  {
   "cell_type": "code",
   "execution_count": null,
   "id": "887868b3",
   "metadata": {},
   "outputs": [],
   "source": [
    "sc.tl.umap(hvg_subset)"
   ]
  },
  {
   "cell_type": "code",
   "execution_count": null,
   "id": "7c74f634",
   "metadata": {},
   "outputs": [],
   "source": [
    "os.getcwd()"
   ]
  },
  {
   "cell_type": "code",
   "execution_count": null,
   "id": "8872f0ec",
   "metadata": {},
   "outputs": [],
   "source": [
    "sc.pl.embedding(\n",
    "    hvg_subset,\n",
    "    basis=\"umap\",\n",
    "    color=['scNym_condensed', 'condition'],\n",
    "    frameon=False,\n",
    "    ncols=1,\n",
    "    save = \"scNym_umap.pdf\"\n",
    ")"
   ]
  },
  {
   "cell_type": "code",
   "execution_count": null,
   "id": "b7edfc63",
   "metadata": {},
   "outputs": [],
   "source": [
    "sc.pl.embedding(\n",
    "    hvg_subset,\n",
    "    basis=\"umap\",\n",
    "    color=['batch'],\n",
    "    frameon=False,\n",
    "    ncols=1,\n",
    "    save = \"batch_all_cells_integrated.pdf\"\n",
    ")"
   ]
  },
  {
   "cell_type": "code",
   "execution_count": null,
   "id": "f16ac038",
   "metadata": {},
   "outputs": [],
   "source": [
    "sc.pl.embedding(\n",
    "    hvg_subset,\n",
    "    basis=\"umap\",\n",
    "    color=['scNym_condensed', 'condition'],\n",
    "    frameon=False,\n",
    "    ncols=1,\n",
    "    legend_loc='on data',\n",
    "    save = \"scNym_umap_labeled.pdf\"\n",
    ")"
   ]
  },
  {
   "cell_type": "code",
   "execution_count": null,
   "id": "f0c58b18",
   "metadata": {
    "scrolled": true
   },
   "outputs": [],
   "source": [
    "sc.pl.embedding(\n",
    "    hvg_subset,\n",
    "    basis=\"X_mde\",\n",
    "    color=['scNym_condensed', 'condition'],\n",
    "    frameon=False,\n",
    "    ncols=1,\n",
    "    save = \"scNym_mde.pdf\"\n",
    ")"
   ]
  },
  {
   "cell_type": "code",
   "execution_count": null,
   "id": "c00e1134",
   "metadata": {},
   "outputs": [],
   "source": [
    "sc.pl.embedding(\n",
    "    hvg_subset,\n",
    "    basis=\"X_mde\",\n",
    "    color=['scNym_condensed', 'condition'],\n",
    "    frameon=False,\n",
    "    ncols=1,\n",
    "    legend_loc='on data',\n",
    "    save = \"scNym_mde_labeled.pdf\"\n",
    ")\n"
   ]
  },
  {
   "cell_type": "code",
   "execution_count": null,
   "id": "52dc6827",
   "metadata": {},
   "outputs": [],
   "source": [
    "fig, (ax1, ax2) =  plt.subplots(2, 1, figsize=(7, 10))\n",
    "p1 = sc.pl.embedding(\n",
    "    hvg_subset[hvg_subset.obs[\"condition\"] == \"PBS\"],\n",
    "    basis=\"X_mde\",\n",
    "    title = \"PBS\",\n",
    "    color='scNym_condensed',\n",
    "    size = 20,\n",
    "    frameon=False,\n",
    "    ncols=1,\n",
    "    show = False,\n",
    "    ax = ax1\n",
    ")\n",
    "p2 = sc.pl.embedding(\n",
    "    hvg_subset[hvg_subset.obs[\"condition\"] == \"SA\"],\n",
    "    basis=\"X_mde\",\n",
    "    title = \"SA\",\n",
    "    size = 20,\n",
    "    color='scNym_condensed',\n",
    "    frameon=False,\n",
    "    ncols=1,\n",
    "    show = False,\n",
    "    ax = ax2\n",
    ")\n",
    "\n",
    "# extent = full_extent(ax2).transformed(fig.dpi_scale_trans.inverted())\n",
    "fig.savefig(\"figures/facet_SA_mde_scNym.pdf\", bbox_inches = \"tight\")"
   ]
  },
  {
   "cell_type": "code",
   "execution_count": null,
   "id": "8358cb34",
   "metadata": {},
   "outputs": [],
   "source": [
    "fig, (ax1, ax2) =  plt.subplots(2, 1, figsize=(7, 10))\n",
    "p1 = sc.pl.embedding(\n",
    "    hvg_subset[hvg_subset.obs[\"condition\"] == \"PBS\"],\n",
    "    basis=\"umap\",\n",
    "    title = \"PBS\",\n",
    "    color='scNym_condensed',\n",
    "    size = 20,\n",
    "    frameon=False,\n",
    "    ncols=1,\n",
    "    show = False,\n",
    "    ax = ax1\n",
    ")\n",
    "p2 = sc.pl.embedding(\n",
    "    hvg_subset[hvg_subset.obs[\"condition\"] == \"SA\"],\n",
    "    basis=\"umap\",\n",
    "    title = \"SA\",\n",
    "    size = 20,\n",
    "    color='scNym_condensed',\n",
    "    frameon=False,\n",
    "    ncols=1,\n",
    "    show = False,\n",
    "    ax = ax2\n",
    ")\n",
    "\n",
    "# extent = full_extent(ax2).transformed(fig.dpi_scale_trans.inverted())\n",
    "fig.savefig(\"figures/facet_SA_umap_scNym.pdf\", bbox_inches = \"tight\")"
   ]
  },
  {
   "cell_type": "markdown",
   "id": "00779e15",
   "metadata": {},
   "source": [
    "### Rank genes groups"
   ]
  },
  {
   "cell_type": "code",
   "execution_count": null,
   "id": "236f884e",
   "metadata": {},
   "outputs": [],
   "source": [
    "# sc.pp.normalize_total(hvg_subset, target_sum=1e6)\n",
    "sc.pp.log1p(hvg_subset)"
   ]
  },
  {
   "cell_type": "code",
   "execution_count": null,
   "id": "75bed515",
   "metadata": {},
   "outputs": [],
   "source": [
    "hvg_subset.X.toarray().max(axis = 0).max()"
   ]
  },
  {
   "cell_type": "code",
   "execution_count": null,
   "id": "3d4f30b6",
   "metadata": {},
   "outputs": [],
   "source": [
    "len(hvg_subset)"
   ]
  },
  {
   "cell_type": "code",
   "execution_count": null,
   "id": "7c18b47c",
   "metadata": {},
   "outputs": [],
   "source": [
    "hvg_subset.obs['scNym_condensed'].value_counts()"
   ]
  },
  {
   "cell_type": "code",
   "execution_count": null,
   "id": "415f7bd1",
   "metadata": {},
   "outputs": [],
   "source": [
    "sc.tl.rank_genes_groups(hvg_subset, 'scNym_condensed', method='wilcoxon', use_raw = False)"
   ]
  },
  {
   "cell_type": "code",
   "execution_count": null,
   "id": "d40ffe57",
   "metadata": {},
   "outputs": [],
   "source": [
    "sc.pl.rank_genes_groups_heatmap(hvg_subset, n_genes = 5, use_raw = False, save = \"scNym_annotation_all_classes_no_genenames.pdf\")"
   ]
  },
  {
   "cell_type": "code",
   "execution_count": null,
   "id": "a6df296a",
   "metadata": {
    "scrolled": true
   },
   "outputs": [],
   "source": [
    "sc.pl.rank_genes_groups_heatmap(hvg_subset, n_genes = 5, use_raw = False, show_gene_labels=True,save = \"scNym_annotation_all_classes_with_genenames.pdf\")"
   ]
  },
  {
   "cell_type": "code",
   "execution_count": null,
   "id": "e34849d1",
   "metadata": {
    "scrolled": true
   },
   "outputs": [],
   "source": [
    "# hvg_subset.uns['rank_genes_groups']"
   ]
  },
  {
   "cell_type": "code",
   "execution_count": null,
   "id": "bff9a147",
   "metadata": {},
   "outputs": [],
   "source": [
    "# to visualize the results\n",
    "sc.pl.rank_genes_groups(hvg_subset, ncol = 3, save = \"scNym_all_celltype_diff_exps_genes.pdf\")"
   ]
  },
  {
   "cell_type": "markdown",
   "id": "bceef95f",
   "metadata": {},
   "source": [
    "### Checking the UMAP for batches with log transform"
   ]
  },
  {
   "cell_type": "code",
   "execution_count": null,
   "id": "98f7868a",
   "metadata": {},
   "outputs": [],
   "source": [
    "sc.tl.pca(hvg_subset)\n",
    "sc.pp.neighbors(hvg_subset)\n",
    "sc.tl.umap(hvg_subset, random_state=1)"
   ]
  },
  {
   "cell_type": "code",
   "execution_count": null,
   "id": "5c98fb4f",
   "metadata": {},
   "outputs": [],
   "source": [
    "# sc.set_figure_params(figsize = (5,4))\n",
    "sc.pl.umap(hvg_subset, color=[ 'scNym_condensed', 'batch' ], size = 30\n",
    "           # ,save = \"all_HSC_umap.pdf\"\n",
    "          )"
   ]
  },
  {
   "cell_type": "markdown",
   "id": "c1f996e0",
   "metadata": {},
   "source": [
    "### Writing DEG genes to an excel file"
   ]
  },
  {
   "cell_type": "code",
   "execution_count": null,
   "id": "d621a524",
   "metadata": {
    "scrolled": true
   },
   "outputs": [],
   "source": [
    "sc.tl.rank_genes_groups(hvg_subset, 'scNym_condensed', method='wilcoxon', use_raw = False)"
   ]
  },
  {
   "cell_type": "code",
   "execution_count": null,
   "id": "a59d43bc",
   "metadata": {},
   "outputs": [],
   "source": [
    "write_rank_genes_groups_to_excel(adata = hvg_subset, excel_path = \"all_BM_cells_scNym_DEGs.xlsx\")"
   ]
  },
  {
   "cell_type": "markdown",
   "id": "cb65156b",
   "metadata": {},
   "source": [
    "### Annotation of hematopoietic precursor cells based on facs data "
   ]
  },
  {
   "cell_type": "code",
   "execution_count": null,
   "id": "f42dc00a",
   "metadata": {},
   "outputs": [],
   "source": [
    "SA_HPC = SA_exps[ SA_exps.obs[\"scNym_condensed\"] == \"hematopoietic precursor cell\" ]"
   ]
  },
  {
   "cell_type": "code",
   "execution_count": null,
   "id": "60547a16",
   "metadata": {},
   "outputs": [],
   "source": [
    "SA_HPC.obs_names"
   ]
  },
  {
   "cell_type": "code",
   "execution_count": null,
   "id": "a2d98a0a",
   "metadata": {},
   "outputs": [],
   "source": [
    "SA_HPC.shape"
   ]
  },
  {
   "cell_type": "code",
   "execution_count": null,
   "id": "607304d1",
   "metadata": {},
   "outputs": [],
   "source": [
    "combined_HSC = datasets[2].concatenate(SA_HPC)"
   ]
  },
  {
   "cell_type": "code",
   "execution_count": null,
   "id": "ad791bf8",
   "metadata": {},
   "outputs": [],
   "source": [
    "combined_HSC.obs.FACS_labels.fillna('Unlabeled',inplace=True)\n",
    "combined_HSC=combined_HSC[combined_HSC.obs.FACS_labels != 'nan']"
   ]
  },
  {
   "cell_type": "code",
   "execution_count": null,
   "id": "1fe2505a",
   "metadata": {},
   "outputs": [],
   "source": [
    "combined_HSC.obs.FACS_labels"
   ]
  },
  {
   "cell_type": "code",
   "execution_count": null,
   "id": "f6516f86",
   "metadata": {},
   "outputs": [],
   "source": [
    "os.getcwd()"
   ]
  },
  {
   "cell_type": "code",
   "execution_count": null,
   "id": "f0817051",
   "metadata": {
    "scrolled": true
   },
   "outputs": [],
   "source": [
    "%%time\n",
    "scnym_api(adata=combined_HSC,\n",
    "          task='train',\n",
    "          groupby='FACS_labels',\n",
    "          out_path='./scnym_output_HPC',\n",
    "          config={\n",
    "              'domain_groupby': 'study_id',\n",
    "              'dan_use_conf_pseudolabels': False,\n",
    "              'pseudolabel_min_confidence':.9\n",
    "          })"
   ]
  },
  {
   "cell_type": "code",
   "execution_count": null,
   "id": "bc4a0e4c",
   "metadata": {
    "scrolled": true
   },
   "outputs": [],
   "source": [
    "%%time\n",
    "scnym_api(\n",
    "    adata=combined_HSC,\n",
    "    task='predict',\n",
    "    key_added='scNym_HPC',\n",
    "    trained_model='./scnym_output_HPC',\n",
    "    out_path='./scnym_output_HPC',\n",
    "    config='new_identity_discovery'\n",
    ")"
   ]
  },
  {
   "cell_type": "markdown",
   "id": "7a160c52",
   "metadata": {},
   "source": [
    "### Writing cominbed_HSC"
   ]
  },
  {
   "cell_type": "code",
   "execution_count": null,
   "id": "a4f5e21f",
   "metadata": {},
   "outputs": [],
   "source": [
    "combined_HSC.obs.to_pickle(\"TM_combined_HSC_SA_obs.plk\")\n",
    "combined_HSC.obs = combined_HSC.obs[[\"study_id\", \"cell_ontology_class\"]]\n",
    "combined_HSC.write(filename = \"TM_combined_HSC_SA.h5ad\")\n",
    "combined_HSC.write_loom(filename = \"TM_combined_HSC_SA.loom\")\n"
   ]
  },
  {
   "cell_type": "markdown",
   "id": "1a4c0858",
   "metadata": {},
   "source": [
    "### Reading combined_HSC"
   ]
  },
  {
   "cell_type": "code",
   "execution_count": null,
   "id": "2bf747b0",
   "metadata": {},
   "outputs": [],
   "source": [
    "### Directory TM_combined_HSC_SA_ann_obs\n",
    "combined_HSC = sc.read_h5ad(filename = \"TM_combined_HSC_SA.h5ad\")\n",
    "obs_plk = pd.read_pickle(\"TM_combined_HSC_SA_obs.plk\")\n",
    "combined_HSC.obs = obs_plk\n",
    "combined_HSC = sc.read_loom(filename = \"TM_combined_HSC_SA.loom\")\n"
   ]
  },
  {
   "cell_type": "markdown",
   "id": "45ca98a4",
   "metadata": {},
   "source": [
    "### Writing scNym annotated loom file for HSCs"
   ]
  },
  {
   "cell_type": "code",
   "execution_count": null,
   "id": "45ddcdb0",
   "metadata": {},
   "outputs": [],
   "source": [
    "combined_HSC.write_loom(filename = \"TM_combined_HSC_SA_ann.loom\", write_obsm_varm=True)"
   ]
  },
  {
   "cell_type": "markdown",
   "id": "8d4aa5dc",
   "metadata": {},
   "source": [
    "### Reading scNym annotated loom file for HSCs"
   ]
  },
  {
   "cell_type": "code",
   "execution_count": null,
   "id": "eaeb2a21",
   "metadata": {},
   "outputs": [],
   "source": [
    "os.getcwd()"
   ]
  },
  {
   "cell_type": "code",
   "execution_count": null,
   "id": "788b4427",
   "metadata": {},
   "outputs": [],
   "source": [
    "combined_HSC = sc.read_loom(filename = \"TM_combined_HSC_SA_ann.loom\")"
   ]
  },
  {
   "cell_type": "code",
   "execution_count": null,
   "id": "a8d5c412",
   "metadata": {},
   "outputs": [],
   "source": [
    "annotated_SA_HSC = combined_HSC[ combined_HSC.obs[\"study_id\"].isin([\"SA_final\", \"SA_pilot\"])]"
   ]
  },
  {
   "cell_type": "code",
   "execution_count": null,
   "id": "ca9e9918",
   "metadata": {},
   "outputs": [],
   "source": [
    "annotated_SA_HSC.obs_names"
   ]
  },
  {
   "cell_type": "code",
   "execution_count": null,
   "id": "2d3dda7a",
   "metadata": {},
   "outputs": [],
   "source": [
    "hvg_subset.obs_names"
   ]
  },
  {
   "cell_type": "code",
   "execution_count": null,
   "id": "e2896d2a",
   "metadata": {},
   "outputs": [],
   "source": [
    "ann_counts = Counter([x[:-4] for x in annotated_SA_HSC.obs_names])\n",
    "unique_names = [x for x in annotated_SA_HSC.obs_names if ann_counts[x[:-4]] == 1]\n",
    "annotated_SA_HSC = annotated_SA_HSC[unique_names]\n",
    "annotated_SA_HSC.obs_names = [x[:-4] for x in annotated_SA_HSC.obs_names]"
   ]
  },
  {
   "cell_type": "code",
   "execution_count": null,
   "id": "2aef5132",
   "metadata": {},
   "outputs": [],
   "source": [
    "annotated_SA_HSC.shape"
   ]
  },
  {
   "cell_type": "code",
   "execution_count": null,
   "id": "00069d4d",
   "metadata": {},
   "outputs": [],
   "source": [
    "common_cells = annotated_SA_HSC.obs_names.intersection(hvg_subset.obs_names)"
   ]
  },
  {
   "cell_type": "code",
   "execution_count": null,
   "id": "b39eb58a",
   "metadata": {},
   "outputs": [],
   "source": [
    "len(set(common_cells))"
   ]
  },
  {
   "cell_type": "code",
   "execution_count": null,
   "id": "3738772e",
   "metadata": {},
   "outputs": [],
   "source": [
    "hvg_subset_HSC = hvg_subset[common_cells]"
   ]
  },
  {
   "cell_type": "code",
   "execution_count": null,
   "id": "631136e3",
   "metadata": {},
   "outputs": [],
   "source": [
    "annotated_SA_HSC_hvg = annotated_SA_HSC[common_cells]"
   ]
  },
  {
   "cell_type": "code",
   "execution_count": null,
   "id": "5a32d1af",
   "metadata": {},
   "outputs": [],
   "source": [
    "hvg_subset_HSC.obs[\"HSC_annotation\"] = annotated_SA_HSC_hvg.obs[\"scNym_HPC\"]"
   ]
  },
  {
   "cell_type": "code",
   "execution_count": null,
   "id": "60dc379b",
   "metadata": {},
   "outputs": [],
   "source": [
    "hvg_subset_HSC.obs[\"HSC_annotation\"].value_counts()"
   ]
  },
  {
   "cell_type": "code",
   "execution_count": null,
   "id": "4f93775b",
   "metadata": {},
   "outputs": [],
   "source": [
    "fig, (ax1, ax2) =  plt.subplots(2, 1, figsize=(7, 10))\n",
    "p1 = sc.pl.embedding(\n",
    "    hvg_subset_HSC[hvg_subset_HSC.obs[\"condition\"] == \"PBS\"],\n",
    "    basis=\"X_mde\",\n",
    "    title = \"PBS\",\n",
    "    color='HSC_annotation',\n",
    "    size = 20,\n",
    "    frameon=False,\n",
    "    ncols=1,\n",
    "    show = False,\n",
    "    ax = ax1\n",
    ")\n",
    "p2 = sc.pl.embedding(\n",
    "    hvg_subset_HSC[hvg_subset_HSC.obs[\"condition\"] == \"SA\"],\n",
    "    basis=\"X_mde\",\n",
    "    title = \"SA\",\n",
    "    size = 20,\n",
    "    color='HSC_annotation',\n",
    "    frameon=False,\n",
    "    ncols=1,\n",
    "    show = False,\n",
    "    ax = ax2\n",
    ")\n",
    "\n",
    "# extent = full_extent(ax2).transformed(fig.dpi_scale_trans.inverted())\n",
    "fig.savefig(\"figures/facet_SA_mde_HSC_FACS_annotation.pdf\", bbox_inches = \"tight\")"
   ]
  },
  {
   "cell_type": "markdown",
   "id": "8b3f1593",
   "metadata": {},
   "source": [
    "### Writing hvg_subset_HSC"
   ]
  },
  {
   "cell_type": "code",
   "execution_count": null,
   "id": "a6468b3a",
   "metadata": {},
   "outputs": [],
   "source": [
    "hvg_subset_HSC.obs.to_pickle(\"hvg_lineage_annotation.plk\")\n",
    "hvg_subset_HSC.obs = hvg_subset_HSC.obs[[\"HSC_annotation\"]]\n",
    "hvg_subset_HSC.write(filename = \"hvg_lineage_annotation.h5ad\")"
   ]
  },
  {
   "cell_type": "markdown",
   "id": "9c295a10",
   "metadata": {},
   "source": [
    "### Reading hvg_subset_HSC"
   ]
  },
  {
   "cell_type": "code",
   "execution_count": null,
   "id": "e219d538",
   "metadata": {},
   "outputs": [],
   "source": [
    "### Directory TM_hvg_subset_HSC_SA_ann_obs\n",
    "hvg_subset_HSC = sc.read_h5ad(filename = \"hvg_lineage_annotation.h5ad\")\n",
    "obs_plk = pd.read_pickle(\"hvg_lineage_annotation.plk\")\n",
    "hvg_subset_HSC.obs = obs_plk"
   ]
  },
  {
   "cell_type": "code",
   "execution_count": null,
   "id": "6c4dbd95",
   "metadata": {},
   "outputs": [],
   "source": [
    "hvg_subset_HSC.raw\n"
   ]
  },
  {
   "cell_type": "code",
   "execution_count": null,
   "id": "d5f1352e",
   "metadata": {},
   "outputs": [],
   "source": [
    "random.seed(1342465)\n",
    "sc.tl.pca(hvg_subset_HSC)\n",
    "sc.pp.neighbors(hvg_subset_HSC)\n",
    "sc.tl.umap(hvg_subset_HSC, random_state=10)\n",
    "sc.tl.leiden(hvg_subset_HSC, resolution=0.48, n_iterations=100)"
   ]
  },
  {
   "cell_type": "code",
   "execution_count": null,
   "id": "2a34558a",
   "metadata": {},
   "outputs": [],
   "source": [
    "sc.set_figure_params(figsize = (5,4))\n",
    "sc.pl.umap(hvg_subset_HSC, color=['HSC_annotation', 'leiden'], size = 30\n",
    "           # ,save = \"all_HSC_umap.pdf\"\n",
    "          )"
   ]
  },
  {
   "cell_type": "code",
   "execution_count": null,
   "id": "4db1381e",
   "metadata": {},
   "outputs": [],
   "source": [
    "sc.set_figure_params(figsize = (5,4))\n",
    "sc.pl.umap(hvg_subset_HSC, color='batch', size = 30\n",
    "           # ,save = \"all_HSC_umap.pdf\"\n",
    "          )"
   ]
  },
  {
   "cell_type": "code",
   "execution_count": null,
   "id": "86c3c569",
   "metadata": {},
   "outputs": [],
   "source": []
  },
  {
   "cell_type": "code",
   "execution_count": null,
   "id": "1b49e569",
   "metadata": {},
   "outputs": [],
   "source": [
    "sc.pp.normalize_total(hvg_subset_HSC, target_sum=1e6)\n",
    "sc.pp.log1p(hvg_subset_HSC)"
   ]
  },
  {
   "cell_type": "code",
   "execution_count": null,
   "id": "ed6f3ed8",
   "metadata": {},
   "outputs": [],
   "source": [
    "sc.tl.pca(hvg_subset_HSC)\n",
    "sc.pp.neighbors(hvg_subset_HSC)\n",
    "sc.tl.umap(hvg_subset_HSC, random_state=1)\n"
   ]
  },
  {
   "cell_type": "code",
   "execution_count": null,
   "id": "45f75344",
   "metadata": {},
   "outputs": [],
   "source": [
    "sc.set_figure_params(figsize = (5,4))\n",
    "sc.pl.umap(hvg_subset_HSC, color='HSC_annotation', size = 30\n",
    "           # ,save = \"all_HSC_umap.pdf\"\n",
    "          )"
   ]
  },
  {
   "cell_type": "markdown",
   "id": "409528d9",
   "metadata": {},
   "source": [
    "### Heatmap of differentially expressed genes"
   ]
  },
  {
   "cell_type": "code",
   "execution_count": null,
   "id": "d9f70d9e",
   "metadata": {},
   "outputs": [],
   "source": [
    "hvg_subset_HSC = hvg_subset_HSC[hvg_subset_HSC.obs['HSC_annotation'] != \"Unknown\"]"
   ]
  },
  {
   "cell_type": "code",
   "execution_count": null,
   "id": "de973479",
   "metadata": {},
   "outputs": [],
   "source": [
    "hvg_subset_HSC.obs[\"HSC_annotation\"].value_counts()"
   ]
  },
  {
   "cell_type": "code",
   "execution_count": null,
   "id": "b4313d82",
   "metadata": {},
   "outputs": [],
   "source": [
    "# sc.tl.pca(hvg_subset_HSC, svd_solver='arpack')\n",
    "# sc.pp.neighbors(hvg_subset_HSC, n_neighbors=10, n_pcs=40)\n",
    "# sc.tl.umap(hvg_subset_HSC)"
   ]
  },
  {
   "cell_type": "code",
   "execution_count": null,
   "id": "67ade5a6",
   "metadata": {},
   "outputs": [],
   "source": [
    "# sc.tl.leiden(hvg_subset_HSC)"
   ]
  },
  {
   "cell_type": "code",
   "execution_count": null,
   "id": "55f112f7",
   "metadata": {},
   "outputs": [],
   "source": [
    "# sc.tl.rank_genes_groups(hvg_subset_HSC, 'leiden', method='wilcoxon', use_raw = False)"
   ]
  },
  {
   "cell_type": "code",
   "execution_count": null,
   "id": "fdc11713",
   "metadata": {},
   "outputs": [],
   "source": [
    "sc.pp.normalize_total(hvg_subset_HSC, target_sum=1e6)\n",
    "sc.pp.log1p(hvg_subset_HSC)"
   ]
  },
  {
   "cell_type": "code",
   "execution_count": null,
   "id": "2dca7c25",
   "metadata": {},
   "outputs": [],
   "source": [
    "sc.tl.rank_genes_groups(hvg_subset_HSC, 'HSC_annotation', method='wilcoxon', use_raw = False)"
   ]
  },
  {
   "cell_type": "code",
   "execution_count": null,
   "id": "45fc1fdc",
   "metadata": {},
   "outputs": [],
   "source": [
    "sc.pl.rank_genes_groups_heatmap(hvg_subset_HSC, use_raw = False, n_genes = 5, save = 'HSC_top5_genes_heatmap.pdf')"
   ]
  },
  {
   "cell_type": "code",
   "execution_count": null,
   "id": "90607b99",
   "metadata": {},
   "outputs": [],
   "source": [
    "sc.pl.rank_genes_groups_heatmap(hvg_subset_HSC, use_raw = False, save = 'HSC_genes_heatmap.pdf')"
   ]
  },
  {
   "cell_type": "markdown",
   "id": "542a90c4",
   "metadata": {},
   "source": [
    "### Writing DEG genes to an excel file"
   ]
  },
  {
   "cell_type": "code",
   "execution_count": null,
   "id": "58a5de3a",
   "metadata": {},
   "outputs": [],
   "source": [
    "write_rank_genes_groups_to_excel(adata = hvg_subset_HSC, excel_path = \"HSC_DEGs_scnym.xlsx\")"
   ]
  }
 ],
 "metadata": {
  "kernelspec": {
   "display_name": "Python 3 (ipykernel)",
   "language": "python",
   "name": "python3"
  },
  "language_info": {
   "codemirror_mode": {
    "name": "ipython",
    "version": 3
   },
   "file_extension": ".py",
   "mimetype": "text/x-python",
   "name": "python",
   "nbconvert_exporter": "python",
   "pygments_lexer": "ipython3",
   "version": "3.12.2"
  }
 },
 "nbformat": 4,
 "nbformat_minor": 5
}
