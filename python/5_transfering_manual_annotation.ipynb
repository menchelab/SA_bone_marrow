{
 "cells": [
  {
   "cell_type": "code",
   "execution_count": null,
   "id": "eec49859",
   "metadata": {},
   "outputs": [],
   "source": [
    "%env PYTHONHASHSEED=0"
   ]
  },
  {
   "cell_type": "code",
   "execution_count": null,
   "id": "ad0e98ba",
   "metadata": {},
   "outputs": [],
   "source": [
    "import numpy as np\n",
    "import pandas as pd\n",
    "import os\n",
    "\n",
    "import scanpy as sc\n",
    "from anndata import AnnData, concat\n",
    "from matplotlib.transforms import Bbox\n",
    "\n",
    "# from scvi.model.utils import mde\n",
    "\n",
    "\n",
    "from matplotlib import pyplot as plt\n",
    "import seaborn as sns\n",
    "\n",
    "from scipy import sparse\n",
    "import gc\n",
    "# from upsetplot import plot as UpSet\n",
    "from itertools import product\n",
    "import networkx as nx\n",
    "\n",
    "from scipy.cluster import hierarchy\n",
    "\n",
    "import re\n",
    "import subprocess\n",
    "\n",
    "import h5py\n",
    "\n",
    "import itertools\n",
    "\n",
    "# from scnym.api import scnym_api\n",
    "\n",
    "# import pymn\n",
    "\n",
    "from collections import Counter"
   ]
  },
  {
   "cell_type": "code",
   "execution_count": null,
   "id": "d4ebe5dd",
   "metadata": {},
   "outputs": [],
   "source": [
    "pd.set_option('display.max_columns', 500)"
   ]
  },
  {
   "cell_type": "code",
   "execution_count": null,
   "id": "453d4208",
   "metadata": {},
   "outputs": [],
   "source": [
    "out_dir = \"/home/anna/ClusterProjects/SA_bone_marrow/scfiles/\""
   ]
  },
  {
   "cell_type": "markdown",
   "id": "fbeafe41",
   "metadata": {},
   "source": [
    "# HSC population"
   ]
  },
  {
   "cell_type": "markdown",
   "id": "c074a0b7",
   "metadata": {},
   "source": [
    "### Reading the unannotated loom file"
   ]
  },
  {
   "cell_type": "code",
   "execution_count": null,
   "id": "6828691f",
   "metadata": {},
   "outputs": [],
   "source": [
    "hvg_subset_HSC_annot = sc.read_h5ad(filename = out_dir + \"hvg_HSC_X_scVI_based_200924.h5ad\")"
   ]
  },
  {
   "cell_type": "code",
   "execution_count": null,
   "id": "8594ab51",
   "metadata": {},
   "outputs": [],
   "source": [
    "hvg_subset_HSC_annot.obsm"
   ]
  },
  {
   "cell_type": "code",
   "execution_count": null,
   "id": "b3074ac4",
   "metadata": {},
   "outputs": [],
   "source": [
    "sc.set_figure_params(figsize = (8,6))\n",
    "sc.pl.embedding(\n",
    "    hvg_subset_HSC_annot,\n",
    "    basis=\"umap\",\n",
    "    color=['leiden', 'batch', \"scNym_HPC\"],\n",
    "    frameon=False,\n",
    "    ncols=1\n",
    ")"
   ]
  },
  {
   "cell_type": "code",
   "execution_count": null,
   "id": "567b730b",
   "metadata": {},
   "outputs": [],
   "source": [
    "manual_cell_mapping = {\"0\":\"GMP CMP\",\n",
    "               \"1\": \"Proliferating GMP\",\n",
    "               \"2\": \"CLP\",\n",
    "               \"3\": \"Erythroid megakaryocyte progenitor\",\n",
    "               \"4\": \"Granulocyte progenitor\",\n",
    "               \"5\": \"B cell progenitor\"}\n",
    "hvg_subset_HSC_annot.obs[\"manual_cell_mapping\"] = hvg_subset_HSC_annot.obs[\"leiden\"].map(manual_cell_mapping)"
   ]
  },
  {
   "cell_type": "code",
   "execution_count": null,
   "id": "4a0792c6",
   "metadata": {},
   "outputs": [],
   "source": [
    "hvg_subset_HSC_annot.write_loom(filename = out_dir + \"hvg_HSC_X_scVI_based_annotated_220924.loom\")\n",
    "hvg_subset_HSC_annot.write_h5ad(filename = out_dir + \"hvg_HSC_X_scVI_based_annotated_220924.h5ad\")"
   ]
  },
  {
   "cell_type": "code",
   "execution_count": null,
   "id": "0a9b3667-0e72-4b4a-93c5-d5748c52bc93",
   "metadata": {},
   "outputs": [],
   "source": [
    "hvg_subset_HSC_annot = sc.read_h5ad (filename = out_dir + \"hvg_HSC_X_scVI_based_annotated_220924.h5ad\")"
   ]
  },
  {
   "cell_type": "code",
   "execution_count": null,
   "id": "8005d0bc",
   "metadata": {},
   "outputs": [],
   "source": [
    "sc.set_figure_params(figsize = (8,6))\n",
    "sc.pl.embedding(\n",
    "    hvg_subset_HSC_annot,\n",
    "    basis=\"umap\",\n",
    "    color=['batch', \"manual_cell_mapping\"],\n",
    "    frameon=False,\n",
    "    ncols=1,\n",
    "    save = \"HSC_x_scvi_manual_annotation_22092024.pdf\"\n",
    ")"
   ]
  },
  {
   "cell_type": "code",
   "execution_count": null,
   "id": "485b60cf",
   "metadata": {},
   "outputs": [],
   "source": [
    "import os"
   ]
  },
  {
   "cell_type": "code",
   "execution_count": null,
   "id": "119d1674",
   "metadata": {},
   "outputs": [],
   "source": [
    "import pandas as pd\n",
    "\n",
    "# Read the Excel file\n",
    "file_path = \"/home/anna/ClusterProjects/SA_bone_marrow/annotated_clusters/Signature genes _ HSC cluster annotation .xlsx\"\n",
    "excel_data = pd.ExcelFile(file_path)\n",
    "\n",
    "# Initialize an empty dictionary\n",
    "HSC_signature_genes = {}\n",
    "\n",
    "# Loop through each sheet and store values of the \"name\" column in the dictionary\n",
    "for sheet_name in excel_data.sheet_names:\n",
    "    # Read each sheet into a DataFrame\n",
    "    df = pd.read_excel(excel_data, sheet_name=sheet_name)\n",
    "    \n",
    "    # Check if the \"name\" column exists\n",
    "    if 'name' in df.columns:\n",
    "        # Add the values of the \"name\" column to the dictionary\n",
    "        filtered_df = df[df['pvalue'] <= 0.05]\n",
    "        HSC_signature_genes[sheet_name] = filtered_df['name'].tolist()\n",
    "\n",
    "# Print the resulting dictionary\n",
    "print(HSC_signature_genes)"
   ]
  },
  {
   "cell_type": "code",
   "execution_count": null,
   "id": "6115e61e",
   "metadata": {},
   "outputs": [],
   "source": [
    "sc.pp.normalize_total(hvg_subset_HSC_annot, target_sum=1e6)\n",
    "sc.pp.log1p(hvg_subset_HSC_annot)\n",
    "\n",
    "# Calculate z-scores across cells for each gene\n",
    "hvg_subset_HSC_annot.layers['z_scores'] = (hvg_subset_HSC_annot.X - np.mean(hvg_subset_HSC_annot.X, axis=0)) / np.std(hvg_subset_HSC_annot.X, axis=0)"
   ]
  },
  {
   "cell_type": "code",
   "execution_count": null,
   "id": "b3f30216",
   "metadata": {},
   "outputs": [],
   "source": [
    "# sc.set_figure_params(figsize = (8,6))\n",
    "# for key in HSC_signature_genes.keys():\n",
    "#     print (key)\n",
    "#     sc.pl.embedding(\n",
    "#         hvg_subset_HSC_annot,\n",
    "#         basis=\"umap\",\n",
    "#         layer='z_scores',\n",
    "#         color=HSC_signature_genes[key],\n",
    "#         frameon=False,\n",
    "#         # ncols=1,\n",
    "#         save = \"HSC_X_scvi_cluster_signature_genes_\" + key + \".pdf\"\n",
    "#     )"
   ]
  },
  {
   "cell_type": "markdown",
   "id": "8cc3bd27",
   "metadata": {},
   "source": [
    "# Mature population"
   ]
  },
  {
   "cell_type": "code",
   "execution_count": null,
   "id": "55a4cc75",
   "metadata": {},
   "outputs": [],
   "source": [
    "hvg_subset_mature_annot = sc.read_h5ad(filename = out_dir + \"hvg_mature_X_scVI_based_200924.h5ad\")"
   ]
  },
  {
   "cell_type": "code",
   "execution_count": null,
   "id": "ca3b86ef",
   "metadata": {},
   "outputs": [],
   "source": [
    "sc.set_figure_params(figsize = (8,6))\n",
    "sc.pl.embedding(\n",
    "    hvg_subset_mature_annot,\n",
    "    basis=\"umap\",\n",
    "    color=['leiden', 'batch', \"scNym_condensed\"],\n",
    "    frameon=False,\n",
    "    ncols=1\n",
    ")"
   ]
  },
  {
   "cell_type": "code",
   "execution_count": null,
   "id": "ebe9f848",
   "metadata": {},
   "outputs": [],
   "source": [
    "manual_cell_mapping = {\"0\": \"Early granulocyte\",\n",
    "               \"1\": \"Dendritic cell\",\n",
    "               \"2\": \"Neutrophil\",\n",
    "               \"3\": \"Granulocyte\",\n",
    "               \"4\": \"Activated DC and macrophage\",\n",
    "               \"5\": \"MC basophil\",\n",
    "               \"6\": \"Cytotoxic T and NK cells\",\n",
    "                   \"7\" : \"Pro B cell\",\n",
    "                   \"8\": \"Neutrophil\",\n",
    "                   \"9\": \"B cell\",\n",
    "                   \"10\": \"Activated monocyte\",\n",
    "                   \"11\": \"Th2 CD4+ T cell\",\n",
    "                   \"12\": \"Activated macrophage\",\n",
    "                   \"13\":\"Erythroblast\",\n",
    "                   \"14\":\"Neutrophil\",\n",
    "                   \"15\":\"Other\"}\n",
    "hvg_subset_mature_annot.obs[\"manual_cell_mapping\"] = hvg_subset_mature_annot.obs[\"leiden\"].map(manual_cell_mapping)"
   ]
  },
  {
   "cell_type": "code",
   "execution_count": null,
   "id": "f4ac460a",
   "metadata": {},
   "outputs": [],
   "source": [
    "hvg_subset_mature_annot.write_loom(filename = out_dir + \"hvg_mature_X_scVI_based_annotated_220924.loom\")\n",
    "hvg_subset_mature_annot.write_h5ad(filename = out_dir + \"hvg_mature_X_scVI_based_annotated_220924.h5ad\")"
   ]
  },
  {
   "cell_type": "code",
   "execution_count": null,
   "id": "2bc215fb-0d14-4373-98ea-bdbb98a7435d",
   "metadata": {},
   "outputs": [],
   "source": [
    "hvg_subset_mature_annot = sc.read_h5ad(filename = out_dir + \"hvg_mature_X_scVI_based_annotated_220924.h5ad\")"
   ]
  },
  {
   "cell_type": "code",
   "execution_count": null,
   "id": "406c26e2",
   "metadata": {},
   "outputs": [],
   "source": [
    "sc.set_figure_params(figsize = (8,6))\n",
    "sc.pl.embedding(\n",
    "    hvg_subset_mature_annot,\n",
    "    basis=\"umap\",\n",
    "    color=['batch', \"manual_cell_mapping\"],\n",
    "    frameon=False,\n",
    "    ncols=1,\n",
    "    save = \"mature_x_scvi_manual_annotation_22092024.pdf\"\n",
    ")"
   ]
  },
  {
   "cell_type": "code",
   "execution_count": null,
   "id": "fad0382a",
   "metadata": {},
   "outputs": [],
   "source": [
    "# Read the Excel file\n",
    "file_path = \"/home/anna/ClusterProjects/SA_bone_marrow/annotated_clusters/Signature genes _ mature cluster annotation.xlsx\"\n",
    "excel_data = pd.ExcelFile(file_path)\n",
    "\n",
    "# Initialize an empty dictionary\n",
    "mature_signature_genes = {}\n",
    "\n",
    "# Loop through each sheet and store values of the \"name\" column in the dictionary\n",
    "for sheet_name in excel_data.sheet_names:\n",
    "    # Read each sheet into a DataFrame\n",
    "    df = pd.read_excel(excel_data, sheet_name=sheet_name)\n",
    "    \n",
    "    # Check if the \"name\" column exists\n",
    "    if 'name' in df.columns:\n",
    "        # Add the values of the \"name\" column to the dictionary\n",
    "        filtered_df = df[df['pvalue'] <= 0.05]\n",
    "        mature_signature_genes[sheet_name] = filtered_df['name'].tolist()\n",
    "\n",
    "# Print the resulting dictionary\n",
    "print(mature_signature_genes)"
   ]
  },
  {
   "cell_type": "code",
   "execution_count": null,
   "id": "3891dc35",
   "metadata": {},
   "outputs": [],
   "source": []
  },
  {
   "cell_type": "code",
   "execution_count": null,
   "id": "542e9b2d",
   "metadata": {},
   "outputs": [],
   "source": [
    "sc.pp.normalize_total(hvg_subset_mature_annot, target_sum=1e6)\n",
    "sc.pp.log1p(hvg_subset_mature_annot)\n",
    "\n",
    "# Calculate z-scores across cells for each gene\n",
    "hvg_subset_mature_annot.layers['z_scores'] = (hvg_subset_mature_annot.X - np.mean(hvg_subset_mature_annot.X, axis=0)) / np.std(hvg_subset_mature_annot.X, axis=0)"
   ]
  },
  {
   "cell_type": "code",
   "execution_count": null,
   "id": "243d3bea",
   "metadata": {},
   "outputs": [],
   "source": [
    "# sc.set_figure_params(figsize = (8,6))\n",
    "# for key in mature_signature_genes.keys():\n",
    "#     print (key)\n",
    "#     sc.pl.embedding(\n",
    "#         hvg_subset_mature_annot,\n",
    "#         basis=\"umap\",\n",
    "#         layer='z_scores',\n",
    "#         color=mature_signature_genes[key],\n",
    "#         frameon=False,\n",
    "#         # ncols=1,\n",
    "#         save = \"mature_X_scvi_cluster_signature_genes_\" + key + \".pdf\"\n",
    "#     )"
   ]
  },
  {
   "cell_type": "code",
   "execution_count": null,
   "id": "fd8d22f3",
   "metadata": {},
   "outputs": [],
   "source": [
    "combined_mature_signature_genes = sum(mature_signature_genes.values(), [])\n",
    "len(combined_mature_signature_genes)"
   ]
  },
  {
   "cell_type": "code",
   "execution_count": null,
   "id": "e2211942",
   "metadata": {},
   "outputs": [],
   "source": [
    "sc.pl.heatmap(hvg_subset_mature_annot, combined_mature_signature_genes, groupby='manual_cell_mapping', layer='z_scores',\n",
    "             save = \"mature_X_scvi_cluster_signature_genes_heatmap.pdf\")"
   ]
  },
  {
   "cell_type": "markdown",
   "id": "2f38b831",
   "metadata": {},
   "source": [
    "### Plotting all the cells"
   ]
  },
  {
   "cell_type": "code",
   "execution_count": null,
   "id": "8b5782ef",
   "metadata": {},
   "outputs": [],
   "source": [
    "# import os\n",
    "# os.chdir(\"python\")"
   ]
  },
  {
   "cell_type": "code",
   "execution_count": null,
   "id": "93c0cbab",
   "metadata": {},
   "outputs": [],
   "source": []
  },
  {
   "cell_type": "code",
   "execution_count": null,
   "id": "2db863b3",
   "metadata": {},
   "outputs": [],
   "source": [
    "### Directory TM_combined_datasets_SA_ann_obs\n",
    "combined_datasets = sc.read_h5ad(filename = \"../data/h5ad/TM_combined_datasets_SA_ann.h5ad\")\n",
    "obs_plk = pd.read_pickle(\"../data/h5ad/TM_combined_datasets_SA_ann_obs.plk\")\n",
    "combined_datasets.obs = obs_plk\n",
    "\n",
    "hvg = sc.read(\"../data/h5ad/hvg_integrated_170824.h5ad\")\n",
    "SA_exps = combined_datasets[combined_datasets.obs[\"study_id\"].isin(['SA_pilot', 'SA_final'])]\n",
    "\n",
    "del(combined_datasets)\n",
    "\n",
    "hvg_cells = hvg.obs_names\n",
    "SA_exp_names = SA_exps.obs_names\n",
    "\n",
    "SA_hvg_cells = [x for x in SA_exp_names if x[:-2] in hvg_cells]\n",
    "\n",
    "\n",
    "SA_cellname_counts = Counter([x[:-2] for x in SA_hvg_cells])\n",
    "SA_unique_names = [x for x in SA_hvg_cells if SA_cellname_counts[x[:-2]] == 1]\n",
    "\n",
    "\n",
    "SA_exps_subset = SA_exps[SA_unique_names]\n",
    "\n",
    "SA_exps_subset.obs_names = [x[:-2] for x in SA_exps_subset.obs_names]\n",
    "\n",
    "hvg_subset = hvg[SA_exps_subset.obs_names]\n",
    "\n",
    "hvg_subset.obs[\"scNym_condensed\"] = SA_exps_subset.obs[\"scNym_condensed\"]\n",
    "hvg_subset.obs[\"scNym_condensed_confidence\"] = SA_exps_subset.obs[\"scNym_condensed_confidence\"]"
   ]
  },
  {
   "cell_type": "code",
   "execution_count": null,
   "id": "f92c3875",
   "metadata": {},
   "outputs": [],
   "source": [
    "manual_annotation = pd.concat([hvg_subset_HSC_annot.obs[\"manual_cell_mapping\"], hvg_subset_mature_annot.obs[\"manual_cell_mapping\"]])"
   ]
  },
  {
   "cell_type": "code",
   "execution_count": null,
   "id": "4b1ded48",
   "metadata": {},
   "outputs": [],
   "source": [
    "hvg_subset.obs[\"manual_annotation\"] = manual_annotation[hvg_subset.obs_names]"
   ]
  },
  {
   "cell_type": "code",
   "execution_count": null,
   "id": "1859bd17",
   "metadata": {},
   "outputs": [],
   "source": [
    "# sc.tl.pca(hvg_subset_HSC, svd_solver='arpack')\n",
    "sc.pp.neighbors(hvg_subset, n_neighbors=10, n_pcs=30, random_state = 514, use_rep = \"X_scVI\")\n",
    "sc.tl.umap(hvg_subset, random_state = 423)\n",
    "sc.tl.leiden(hvg_subset, resolution = 0.3, n_iterations=-1)"
   ]
  },
  {
   "cell_type": "code",
   "execution_count": null,
   "id": "b27a74ba",
   "metadata": {},
   "outputs": [],
   "source": [
    "manual_annotation.unique()"
   ]
  },
  {
   "cell_type": "code",
   "execution_count": null,
   "id": "411f8276",
   "metadata": {},
   "outputs": [],
   "source": [
    "color_mapping = {\n",
    "'Pro B cell': '#023fa5',\n",
    " 'B cell': '#7d87b9',\n",
    " 'MC basophil': '#bec1d4',\n",
    " 'CLP': '#d6bcc0',\n",
    " 'GMP CMP': '#bb7784',\n",
    " 'Dendritic cell': '#8e063b',\n",
    " 'B cell progenitor': '#4a6fe3',\n",
    " 'Granulocyte': '#8595e1',\n",
    " 'Granulocyte progenitor': '#b5bbe3',\n",
    " 'Erythroblast': '#e6afb9',\n",
    " 'Proliferating GMP': '#e07b91',\n",
    " 'Activated DC and macrophage': '#d33f6a',\n",
    " 'Erythroid megakaryocyte progenitor': '#11c638',\n",
    " 'Activated macrophage': '#8dd593',\n",
    " 'Activated monocyte': '#c6dec7',\n",
    " 'Th2 CD4+ T cell': '#ead3c6',\n",
    " 'Early granulocyte': '#f0b98d',\n",
    " 'Neutrophil': '#ff9999',\n",
    " 'Other': '#000000',\n",
    " 'Cytotoxic T and NK cells': '#0fcfc0'}"
   ]
  },
  {
   "cell_type": "code",
   "execution_count": null,
   "id": "6dc448fc",
   "metadata": {},
   "outputs": [],
   "source": [
    "sc.set_figure_params(figsize = (8,6))\n",
    "sc.pl.embedding(\n",
    "    hvg_subset,\n",
    "    basis=\"umap\",\n",
    "    color=['manual_annotation'],\n",
    "    frameon=False,\n",
    "    ncols=1,\n",
    "    legend_loc='on data',\n",
    "    size = 60,\n",
    "    palette = color_mapping,\n",
    "    save = \"all_celltypes_X_scVI_reannotated_ondata.pdf\"\n",
    ")"
   ]
  },
  {
   "cell_type": "code",
   "execution_count": null,
   "id": "4694412e",
   "metadata": {},
   "outputs": [],
   "source": [
    "sc.set_figure_params(figsize = (8,6))\n",
    "sc.pl.embedding(\n",
    "    hvg_subset,\n",
    "    basis=\"umap\",\n",
    "    color=['manual_annotation'],\n",
    "    frameon=False,\n",
    "    ncols=1,\n",
    "    # legend_loc='on data',\n",
    "    size = 60,\n",
    "    palette = color_mapping,\n",
    "    save = \"all_celltypes_X_scVI_reannotated_legend_right.pdf\"\n",
    ")"
   ]
  },
  {
   "cell_type": "code",
   "execution_count": null,
   "id": "d08fdff5",
   "metadata": {},
   "outputs": [],
   "source": [
    "hvg_subset.obs"
   ]
  },
  {
   "cell_type": "code",
   "execution_count": null,
   "id": "b824ed66",
   "metadata": {},
   "outputs": [],
   "source": [
    "sc.set_figure_params(figsize = (8,6))\n",
    "sc.pl.embedding(\n",
    "    hvg_subset,\n",
    "    basis=\"umap\",\n",
    "    color=['batch'],\n",
    "    frameon=False,\n",
    "    ncols=1,\n",
    "    # legend_loc='on data',\n",
    "    size = 60,\n",
    "    save = \"all_celltypes_X_scVI_batch_legend_right.pdf\"\n",
    ")"
   ]
  },
  {
   "cell_type": "code",
   "execution_count": null,
   "id": "4eabf70a",
   "metadata": {},
   "outputs": [],
   "source": [
    "hvg_subset.obs[\"condition\"] = hvg_subset.obs['sample'].apply(lambda x: 'SA' if 'SA' in x else 'PBS')"
   ]
  },
  {
   "cell_type": "code",
   "execution_count": null,
   "id": "03c5a6f5",
   "metadata": {},
   "outputs": [],
   "source": [
    "sc.set_figure_params(figsize = (8,6))\n",
    "sc.pl.embedding(\n",
    "    hvg_subset,\n",
    "    basis=\"umap\",\n",
    "    color=[\"condition\"],\n",
    "    frameon=False,\n",
    "    ncols=1,\n",
    "    # legend_loc='on data',\n",
    "    size = 60,\n",
    "    palette = {\"PBS\": \"#BEBEBE\", \"SA\": \"#fcb13b\"},\n",
    "    save = \"all_celltypes_X_scVI_condition_legend_right.pdf\"\n",
    ")"
   ]
  },
  {
   "cell_type": "code",
   "execution_count": null,
   "id": "11902f6b",
   "metadata": {},
   "outputs": [],
   "source": [
    "sc.set_figure_params(figsize = (8,6))\n",
    "sc.pl.embedding(\n",
    "    hvg_subset,\n",
    "    basis=\"umap\",\n",
    "    color=[\"sample\"],\n",
    "    frameon=False,\n",
    "    ncols=1,\n",
    "    # legend_loc='on data',\n",
    "    size = 30,\n",
    "    palette = {\"HTO-PBS1\" : '#377eb8', \"HTO-PBS2\" : '#ff7f00', \"HTO-PBS3\" : '#4daf4a',\n",
    "                  \"HTO-PBS4\" : '#f781bf', \"HTO-SA1\" : '#a65628', \"HTO-SA2\" : '#984ea3',\n",
    "                  \"HTO-SA3\" :'#999999',\"HTO-SA4\" : '#dede00'},\n",
    "    save = \"all_celltypes_X_scVI_sample_legend_right.pdf\"\n",
    ")"
   ]
  },
  {
   "cell_type": "markdown",
   "id": "351dd602",
   "metadata": {},
   "source": [
    "### KI67 expression across clusters"
   ]
  },
  {
   "cell_type": "code",
   "execution_count": null,
   "id": "c0d25f21",
   "metadata": {},
   "outputs": [],
   "source": [
    "hvg_subset.layers\n",
    "hvg_subset.layers['z_scores'] = (hvg_subset.X - np.mean(hvg_subset.X, axis=0)) / np.std(hvg_subset.X, axis=0)"
   ]
  },
  {
   "cell_type": "code",
   "execution_count": null,
   "id": "692b68ac",
   "metadata": {},
   "outputs": [],
   "source": [
    "sc.pl.violin(adata=hvg_subset, keys = \"Mki67\", groupby=\"manual_annotation\", use_raw=True, # layer = \"z_scores\", \n",
    "             rotation = 90,\n",
    "            save = \"KI67_violin_all_cells.pdf\")"
   ]
  },
  {
   "cell_type": "code",
   "execution_count": null,
   "id": "a4c26a35",
   "metadata": {},
   "outputs": [],
   "source": [
    "list(hvg_subset.obs[\"manual_annotation\"].unique())"
   ]
  },
  {
   "cell_type": "code",
   "execution_count": null,
   "id": "f349aca7",
   "metadata": {},
   "outputs": [],
   "source": [
    "cell_types_of_interest = ['Early granulocyte', 'Proliferating GMP',\"GMP CMP\", \"Neutrophil\", \"Granulocyte progenitor\", \"Activated monocyte\", \"Granulocyte\" ]  # Replace with exact names from your dataset\n",
    "hvg_subset_granulo_cells = hvg_subset[hvg_subset.obs[\"manual_annotation\"].isin(cell_types_of_interest)]"
   ]
  },
  {
   "cell_type": "code",
   "execution_count": null,
   "id": "063cf6e1",
   "metadata": {},
   "outputs": [],
   "source": [
    "sc.pl.violin(adata=hvg_subset_granulo_cells, keys = \"Mki67\", groupby=\"manual_annotation\", use_raw=True, # layer = \"z_scores\", \n",
    "             rotation = 90,\n",
    "            save = \"KI67_violin_granulo_cells.pdf\")"
   ]
  },
  {
   "cell_type": "markdown",
   "id": "49219007",
   "metadata": {},
   "source": [
    "# Cell cycle info"
   ]
  },
  {
   "cell_type": "code",
   "execution_count": null,
   "id": "8286452b",
   "metadata": {},
   "outputs": [],
   "source": [
    "cell_cycle_h5ad = sc.read_h5ad(filename = \"../data/h5ad/hvg_integrated_170824_cell_cycle_phases.h5ad\")\n",
    "# bm_velo.obs_names = bm_velo.obs[\"obs_names\"]\n",
    "# cell_cycle = bm_velo.obs[\"cell_cycle_phase\"]"
   ]
  },
  {
   "cell_type": "code",
   "execution_count": null,
   "id": "10981cea-5662-45ec-8d02-7bbd32292ee4",
   "metadata": {},
   "outputs": [],
   "source": [
    "cell_cycle_h5ad.obs_names"
   ]
  },
  {
   "cell_type": "code",
   "execution_count": null,
   "id": "fd33be95-e2a4-4e9a-9d07-4335fb457998",
   "metadata": {},
   "outputs": [],
   "source": [
    "hvg_subset.obs[\"cell_cycle_phase\"] = cell_cycle_h5ad[hvg_subset.obs_names].obs[\"cell_cycle_phase\"]"
   ]
  },
  {
   "cell_type": "code",
   "execution_count": null,
   "id": "b5503a04-bfd9-4477-a69d-30c78b507047",
   "metadata": {},
   "outputs": [],
   "source": [
    "cell_cycle_colors = {\n",
    "    \"G1-S\":\"#7d87b9\", \n",
    "    \"G2-M\" : \"#e07b91\",\n",
    "    \"M\": \"#0fcfc0\", \n",
    "    \"M-G1\": \"#c6dec7\", \n",
    "    \"S\": \"#d33f6a\"}"
   ]
  },
  {
   "cell_type": "code",
   "execution_count": null,
   "id": "1f46ddee-e23f-4068-a9f2-b4e88d26e64b",
   "metadata": {},
   "outputs": [],
   "source": [
    "sc.set_figure_params(figsize = (8,6))\n",
    "sc.pl.embedding(\n",
    "    hvg_subset,\n",
    "    basis=\"umap\",\n",
    "    color=['cell_cycle_phase'],\n",
    "    frameon=False,\n",
    "    ncols=1,\n",
    "    # legend_loc='on data',\n",
    "    size = 60,\n",
    "    palette = cell_cycle_colors,\n",
    "    save = \"all_celltypes_X_scVI_cell_cycle.pdf\")"
   ]
  }
 ],
 "metadata": {
  "kernelspec": {
   "display_name": "Python 3 (ipykernel)",
   "language": "python",
   "name": "python3"
  },
  "language_info": {
   "codemirror_mode": {
    "name": "ipython",
    "version": 3
   },
   "file_extension": ".py",
   "mimetype": "text/x-python",
   "name": "python",
   "nbconvert_exporter": "python",
   "pygments_lexer": "ipython3",
   "version": "3.12.2"
  }
 },
 "nbformat": 4,
 "nbformat_minor": 5
}
