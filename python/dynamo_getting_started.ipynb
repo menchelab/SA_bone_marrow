{
 "cells": [
  {
   "cell_type": "code",
   "execution_count": 5,
   "id": "038c7ac9",
   "metadata": {},
   "outputs": [],
   "source": [
    "import scanpy as sc\n",
    "# import scvi\n",
    "import glob\n",
    "import os\n",
    "from functools import reduce\n",
    "import anndata as ad\n",
    "import matplotlib.pyplot as plt\n",
    "import numpy as np\n",
    "import seaborn as sns\n",
    "import pandas as pd\n",
    "from scipy.io import mmread\n",
    "import gzip\n",
    "import dynamo as dyn\n",
    "import velocyto as vcy"
   ]
  },
  {
   "cell_type": "markdown",
   "id": "54513c23",
   "metadata": {},
   "source": [
    "### Reading in loom from velocyto"
   ]
  },
  {
   "cell_type": "code",
   "execution_count": 6,
   "id": "6624394c",
   "metadata": {},
   "outputs": [],
   "source": [
    "vlm_pilot = vcy.VelocytoLoom(\"../velocyto_run//output/MR_30_10X_SA_PBS_BM_22112021_transcriptome_possorted_genome_bam_IFOE5.loom\")\n",
    "vlm_final = vcy.VelocytoLoom(\"../velocyto_run/output/MR_33_10X_SA_PBS_BM_transcriptome_possorted_genome_bam_IJA5R.loom\")"
   ]
  },
  {
   "cell_type": "markdown",
   "id": "537cf15a",
   "metadata": {},
   "source": [
    "### Configuring dynamo"
   ]
  },
  {
   "cell_type": "code",
   "execution_count": 8,
   "id": "c578ca58",
   "metadata": {},
   "outputs": [],
   "source": [
    "dyn.configuration.set_figure_params('dynamo', background='white') # jupter notebooks\n",
    "dyn.configuration.set_figure_params('dynamo', background='black') # presentation\n",
    "# dyn.configuration.set_pub_style() # manuscript"
   ]
  },
  {
   "cell_type": "code",
   "execution_count": 9,
   "id": "878eccc6",
   "metadata": {},
   "outputs": [],
   "source": [
    "# bm = sc.read(\"../output/bm_integrated.h5ad\")\n",
    "hvg = sc.read(\"../data/h5ad/hvg_integrated_170824.h5ad\")"
   ]
  },
  {
   "cell_type": "code",
   "execution_count": 10,
   "id": "a88ca2d4",
   "metadata": {},
   "outputs": [],
   "source": [
    "hvg.obs['pMito'] =hvg.obs['percent_mt']"
   ]
  },
  {
   "cell_type": "code",
   "execution_count": 12,
   "id": "e1056ad8",
   "metadata": {},
   "outputs": [
    {
     "data": {
      "text/plain": [
       "array([[ 1.3349354e-03,  4.7511292e-01,  4.7762804e-03, ...,\n",
       "        -9.0266120e-01,  3.2771379e-02, -2.3049459e-02],\n",
       "       [ 1.2936103e+00, -8.3951694e-01,  6.4081699e-03, ...,\n",
       "         3.4301889e-01,  1.6294017e-02,  1.4192190e-02],\n",
       "       [-4.7148120e-01,  4.1863799e-01, -1.0705569e-02, ...,\n",
       "        -1.7194808e+00, -8.0057681e-03, -7.1350969e-03],\n",
       "       ...,\n",
       "       [-9.2762476e-01, -7.0137978e-02, -3.2809682e-02, ...,\n",
       "         4.6381080e-01,  2.1407455e-02, -3.3722419e-02],\n",
       "       [ 4.2715272e-01, -2.2141695e-02,  1.5500817e-02, ...,\n",
       "        -7.6620609e-01,  2.0098925e-02, -3.7631989e-02],\n",
       "       [-5.3124171e-01, -8.1957817e-02, -1.4697135e-02, ...,\n",
       "        -5.5279493e-02,  3.4948431e-02,  2.8340647e-02]], dtype=float32)"
      ]
     },
     "execution_count": 12,
     "metadata": {},
     "output_type": "execute_result"
    }
   ],
   "source": [
    "hvg.obsm['X_scVI']"
   ]
  },
  {
   "cell_type": "code",
   "execution_count": 13,
   "id": "d10af12a",
   "metadata": {},
   "outputs": [
    {
     "name": "stdout",
     "output_type": "stream",
     "text": [
      "|-----? dynamo.preprocessing.deprecated is deprecated.\n",
      "|-----> recipe_monocle_keep_filtered_cells_key is None. Using default value from DynamoAdataConfig: recipe_monocle_keep_filtered_cells_key=True\n",
      "|-----> recipe_monocle_keep_filtered_genes_key is None. Using default value from DynamoAdataConfig: recipe_monocle_keep_filtered_genes_key=True\n",
      "|-----> recipe_monocle_keep_raw_layers_key is None. Using default value from DynamoAdataConfig: recipe_monocle_keep_raw_layers_key=True\n",
      "|-----> apply Monocole recipe to adata...\n",
      "|-----> ensure all cell and variable names unique.\n",
      "|-----> ensure all data in different layers in csr sparse matrix format.\n"
     ]
    },
    {
     "name": "stderr",
     "output_type": "stream",
     "text": [
      "/tmp/ipykernel_529582/21529172.py:1: DeprecationWarning: recipe_monocle is deprecated and will be removed in a future release. Please update your code to use the new replacement function.\n",
      "  dyn.pp.recipe_monocle(hvg)\n"
     ]
    },
    {
     "name": "stdout",
     "output_type": "stream",
     "text": [
      "|-----> ensure all labeling data properly collapased\n",
      "|-----? dynamo detects your data is size factor normalized and/or log transformed. If this is not right, plese set `normalized = False.\n",
      "|-----> filtering cells...\n",
      "|-----> 5517 cells passed basic filters.\n",
      "|-----> filtering gene...\n",
      "|-----> 2391 genes passed basic filters.\n",
      "|-----> calculating size factor...\n",
      "|-----> selecting genes in layer: X, sort method: SVR...\n",
      "|-----> size factor normalizing the data, followed by log1p transformation.\n",
      "|-----> Set <adata.X> to normalized data\n",
      "|-----> applying PCA ...\n",
      "|-----> <insert> X_pca to obsm in AnnData Object.\n",
      "|-----> cell cycle scoring...\n",
      "|-----> computing cell phase...\n",
      "|-----> [Cell Phase Estimation] completed [254.9905s]\n",
      "|-----> [Cell Cycle Scores Estimation] completed [0.6273s]\n",
      "|-----> [recipe_monocle preprocess] completed [3.5768s]\n"
     ]
    },
    {
     "name": "stderr",
     "output_type": "stream",
     "text": [
      "/home/anna/miniconda3/envs/dynamo/lib/python3.11/site-packages/dynamo/preprocessing/cell_cycle.py:460: FutureWarning: The default of observed=False is deprecated and will be changed to True in a future version of pandas. Pass observed=False to retain current behavior or observed=True to adopt the future default and silence this warning.\n",
      "  cell_cycle_scores[\"cell_cycle_order\"] = cell_cycle_scores.groupby(\"cell_cycle_phase\").cumcount()\n",
      "/home/anna/miniconda3/envs/dynamo/lib/python3.11/site-packages/dynamo/preprocessing/cell_cycle.py:461: FutureWarning: The default of observed=False is deprecated and will be changed to True in a future version of pandas. Pass observed=False to retain current behavior or observed=True to adopt the future default and silence this warning.\n",
      "  cell_cycle_scores[\"cell_cycle_order\"] = cell_cycle_scores.groupby(\"cell_cycle_phase\", group_keys=False)[\n"
     ]
    }
   ],
   "source": [
    "dyn.pp.recipe_monocle(hvg)"
   ]
  },
  {
   "cell_type": "code",
   "execution_count": 14,
   "id": "caecd46b",
   "metadata": {},
   "outputs": [
    {
     "data": {
      "text/plain": [
       "Layers with keys: counts, scVI_normalized, X_counts, X_scVI_normalized"
      ]
     },
     "execution_count": 14,
     "metadata": {},
     "output_type": "execute_result"
    }
   ],
   "source": [
    "hvg.layers"
   ]
  },
  {
   "cell_type": "code",
   "execution_count": 15,
   "id": "acb22a17",
   "metadata": {},
   "outputs": [
    {
     "data": {
      "text/plain": [
       "AnnData object with n_obs × n_vars = 5517 × 2506\n",
       "    obs: 'nCount_RNA', 'nFeature_RNA', 'sample', 'nCount_HTO', 'nFeature_HTO', 'HTO_maxID', 'HTO_secondID', 'HTO_margin', 'HTO_classification', 'hash.ID', 'RNA_snn_res.0.6', 'seurat_clusters', 'percent_mt', 'nCount_SCT', 'nFeature_SCT', 'SCT_snn_res.0.8', 'rnaseq_labels', 'immgen_labels', 'batch', '_scvi_batch', '_scvi_labels', 'leiden', 'pMito', 'nGenes', 'nCounts', 'pass_basic_filter', 'Size_Factor', 'initial_cell_size', 'counts_Size_Factor', 'initial_counts_cell_size', 'scVI_normalized_Size_Factor', 'initial_scVI_normalized_cell_size', 'cell_cycle_phase'\n",
       "    var: 'nCells', 'nCounts', 'pass_basic_filter', 'log_cv', 'score', 'log_m', 'frac', 'use_for_pca'\n",
       "    uns: 'HTO_maxID_colors', '_scvi_manager_uuid', '_scvi_uuid', 'batch_colors', 'leiden', 'leiden_colors', 'neighbors', 'pca', 'umap', 'pp', 'velocyto_SVR', 'PCs', 'explained_variance_ratio_', 'pca_mean', 'pca_fit', 'feature_selection', 'cell_phase_genes'\n",
       "    obsm: 'X_mde', 'X_pca', 'X_scVI', 'X_tsne', 'X_umap', '_scvi_extra_categorical_covs', '_scvi_extra_continuous_covs', 'counts_pca', 'scVI_norm_pca', 'X', 'cell_cycle_scores'\n",
       "    varm: 'PCs'\n",
       "    layers: 'counts', 'scVI_normalized', 'X_counts', 'X_scVI_normalized'\n",
       "    obsp: 'connectivities', 'distances'"
      ]
     },
     "execution_count": 15,
     "metadata": {},
     "output_type": "execute_result"
    }
   ],
   "source": [
    "hvg"
   ]
  },
  {
   "cell_type": "code",
   "execution_count": 18,
   "id": "bbfbc851-06b9-49ae-9212-e37002ebb16c",
   "metadata": {},
   "outputs": [
    {
     "data": {
      "text/plain": [
       "anndata._core.anndata.AnnData"
      ]
     },
     "execution_count": 18,
     "metadata": {},
     "output_type": "execute_result"
    }
   ],
   "source": [
    "type(hvg)"
   ]
  },
  {
   "cell_type": "code",
   "execution_count": 19,
   "id": "ba28004b-d5fe-40ac-9563-bf7874bd726a",
   "metadata": {},
   "outputs": [],
   "source": [
    "del(hvg.uns[\"cell_phase_genes\"])"
   ]
  },
  {
   "cell_type": "code",
   "execution_count": 20,
   "id": "ee351c83-12a4-4c23-9a2d-83e00b31993b",
   "metadata": {},
   "outputs": [],
   "source": [
    "hvg.write_h5ad(\"../data/h5ad/hvg_integrated_170824_cell_cycle_phases.h5ad\")"
   ]
  },
  {
   "cell_type": "code",
   "execution_count": null,
   "id": "f1b6836a",
   "metadata": {},
   "outputs": [],
   "source": []
  }
 ],
 "metadata": {
  "kernelspec": {
   "display_name": "Python 3 (ipykernel)",
   "language": "python",
   "name": "python3"
  },
  "language_info": {
   "codemirror_mode": {
    "name": "ipython",
    "version": 3
   },
   "file_extension": ".py",
   "mimetype": "text/x-python",
   "name": "python",
   "nbconvert_exporter": "python",
   "pygments_lexer": "ipython3",
   "version": "3.11.10"
  }
 },
 "nbformat": 4,
 "nbformat_minor": 5
}
