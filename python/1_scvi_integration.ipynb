{
 "cells": [
  {
   "cell_type": "code",
   "execution_count": null,
   "id": "896db989",
   "metadata": {},
   "outputs": [],
   "source": [
    "from scvi.model.utils import mde\n",
    "import pymde\n",
    "import scanpy as sc\n",
    "import scvi\n",
    "import glob\n",
    "import os\n",
    "from functools import reduce\n",
    "import anndata as ad\n",
    "import matplotlib.pyplot as plt\n",
    "import numpy as np\n",
    "import seaborn as sns\n",
    "import pandas as pd\n",
    "from scipy.io import mmread\n",
    "import gzip\n"
   ]
  },
  {
   "cell_type": "markdown",
   "id": "bf0f722d",
   "metadata": {},
   "source": [
    "## Daniel's functions for QC"
   ]
  },
  {
   "cell_type": "code",
   "execution_count": null,
   "id": "1e606473",
   "metadata": {},
   "outputs": [],
   "source": [
    "def read_sc_data(\n",
    "    counts_file, \n",
    "    features_file,\n",
    "    metadata_file\n",
    "):\n",
    "    data_dict = {}\n",
    "    for key, filename in zip(\n",
    "        ['counts', 'featuresզ', 'metadata'],\n",
    "        [counts_file, features_file, metadata_file]\n",
    "    ):\n",
    "        if filename.endswith('gz'):\n",
    "            open_file = lambda x: gzip.open(x, 'rt')\n",
    "            \n",
    "        else: \n",
    "            open_file = lambda x: open(x, 'r')\n",
    "            \n",
    "        with open_file(filename) as file:\n",
    "            if key == 'counts':\n",
    "                # transpose due to the way the data was exported to comply with Seurat\n",
    "                # see also convert_to_raw.ipynb\n",
    "                data = mmread(file).T.tocsr()\n",
    "            \n",
    "            elif key == 'metadata':\n",
    "                data = pd.read_csv(\n",
    "                    file,\n",
    "                    sep = '\\t',\n",
    "                    index_col = 0\n",
    "                )\n",
    "            \n",
    "            else:\n",
    "                data = pd.DataFrame(\n",
    "                    index = file.read().rstrip().split()\n",
    "                )\n",
    "            \n",
    "        data_dict[key] = data\n",
    "\n",
    "    adata = ad.AnnData(\n",
    "        X = data_dict['counts'],\n",
    "        obs = data_dict['metadata'],\n",
    "        var = data_dict['features']\n",
    "    )\n",
    "    return adata\n",
    "\n",
    "\n",
    "def compute_qc_metrics(adata):\n",
    "    # flatten is needed due to csr_matrix.sum returning a numpy.matrix object\n",
    "    # which cannot be broadcasted to obs frame\n",
    "    # adata.obs['nFeature_RNA'] = np.array((adata.X > 0).sum(axis = 1)).flatten()\n",
    "    # adata.obs['nCount_RNA'] = np.array(adata.X.sum(axis = 1)).flatten()\n",
    "#     adata.obs['percent_mt'] = np.array(\n",
    "#         adata[:, adata.var.index.str.match('^mt.')].X.sum(axis = 1) / adata.X.sum(axis = 1) * 100\n",
    "#     ).flatten()\n",
    "\n",
    "    adata.obs['percent_ribo'] = np.array(\n",
    "        adata[:, adata.var.index.str.match('^rp[sl]')].X.sum(axis = 1) / adata.X.sum(axis = 1) * 100\n",
    "    ).flatten()\n",
    "\n",
    "\n",
    "def apply_qc_thresholds(adata, sample_id_column, sample_thresholds):\n",
    "    adata.obs['qc_pass'] = True\n",
    "    for sample_id, thresholds in sample_thresholds.items():\n",
    "        df = adata.obs.loc[adata.obs[sample_id_column] == sample_id, :]\n",
    "        feature_qcs = []\n",
    "        for feature, (lo, hi) in thresholds.items():\n",
    "            feature_qcs.append(\n",
    "                df[feature].apply(lambda x: x > lo and x < hi).values\n",
    "            )\n",
    "        \n",
    "        qc_pass = np.all(\n",
    "            np.vstack(feature_qcs),\n",
    "            axis = 0\n",
    "        )\n",
    "        adata.obs.loc[adata.obs[sample_id_column] == sample_id, 'qc_pass'] = qc_pass\n",
    "\n",
    "\n",
    "def generate_plots(\n",
    "    axs, \n",
    "    df,\n",
    "    qc_pass_idx, \n",
    "    thresholds = None\n",
    "):\n",
    "    # datacols = ['nFeature_RNA', 'percent_mt', 'percent_ribo']\n",
    "    datacols = ['nFeature_RNA', 'percent_mt']\n",
    "    hue = ['pass' if x else 'fail' for x in qc_pass_idx] if not all(qc_pass_idx) else None\n",
    "    palette = {'pass': '#4B72B1', 'fail': 'red'} if hue else None\n",
    "    for j, datacol in enumerate(datacols):\n",
    "        sns.histplot(\n",
    "            x = df.loc[:, datacol],\n",
    "            ax = axs[0, j],\n",
    "            hue = hue,\n",
    "            palette = palette,\n",
    "            kde = True,\n",
    "            fill = True\n",
    "        )\n",
    "        if thresholds and datacol in thresholds:\n",
    "            for position in thresholds[datacol]:\n",
    "                if position:\n",
    "                    axs[0, j].axvline(\n",
    "                        position,\n",
    "                        color = 'k',\n",
    "                        linewidth = 1\n",
    "                    )\n",
    "                \n",
    "    \n",
    "    xy = [\n",
    "        ('nCount_RNA', 'nFeature_RNA'),\n",
    "        ('nFeature_RNA', 'percent_mt')# ,\n",
    "        # ('percent_mt', 'percent_ribo')\n",
    "    ]\n",
    "    for j, (xcol, ycol) in enumerate(xy): \n",
    "        sns.scatterplot(\n",
    "            x = df.loc[:, xcol],\n",
    "            y = df.loc[:, ycol],\n",
    "            ax = axs[1, j],\n",
    "            hue = hue,\n",
    "            palette = palette,\n",
    "            edgecolor = 'k',\n",
    "            facecolor = None,\n",
    "            color = None,\n",
    "            alpha = 0.5\n",
    "        )\n",
    "        sns.kdeplot(\n",
    "            x = df.loc[qc_pass_idx, xcol],\n",
    "            y = df.loc[qc_pass_idx, ycol],\n",
    "            ax = axs[1, j],\n",
    "            color = 'lightblue'\n",
    "        )\n",
    "        \n",
    "        if thresholds:\n",
    "            for key, plotline in zip(\n",
    "                [xcol, ycol],\n",
    "                [axs[1, j].axvline, axs[1, j].axhline]\n",
    "            ):\n",
    "                if key in thresholds:\n",
    "                    for position in thresholds[key]:\n",
    "                        if position:\n",
    "                            plotline(\n",
    "                                position,\n",
    "                                color = 'k',\n",
    "                                linewidth = 1\n",
    "                            )\n",
    "\n",
    "                            \n",
    "def plot_qc(\n",
    "    adata,\n",
    "    thresholds = None, \n",
    "    sample_id_column = None,\n",
    "    sharex = False\n",
    "):\n",
    "    if not sample_id_column:\n",
    "        fig, axs = plt.subplots(2, 2)\n",
    "        generate_plots(\n",
    "            axs,\n",
    "            adata.obs,\n",
    "            qc_pass_idx = adata.obs[column_dict['qc_pass']] if 'qc_pass' in adata.obs.columns else [True] * adata.obs.shape[0],\n",
    "            thresholds = thresholds\n",
    "        )\n",
    "        \n",
    "    else:\n",
    "        fig, axs = plt.subplots(\n",
    "            adata.obs[sample_id_column].nunique(), \n",
    "            4, \n",
    "            sharex = 'col' if sharex else 'none'\n",
    "        )\n",
    "        for i, sample_id in enumerate(adata.obs[sample_id_column].unique()):\n",
    "            tmp_df = adata[adata.obs[sample_id_column] == sample_id, :].obs\n",
    "            generate_plots(\n",
    "                axs[i, :].reshape(2, 2),\n",
    "                tmp_df,\n",
    "                qc_pass_idx = tmp_df['qc_pass'] if 'qc_pass' in tmp_df.columns else [True] * tmp_df.shape[0],\n",
    "                thresholds = thresholds[sample_id] if thresholds else None\n",
    "            )\n",
    "            axs[i, 0].set_ylabel(sample_id)\n",
    "    \n",
    "    return fig\n",
    "\n",
    "\n",
    "def integrate_data_scvi(\n",
    "    adata, \n",
    "    batch_key, \n",
    "    categorical_covariate_keys = None,\n",
    "    continuous_covariate_keys = None,\n",
    "    use_highly_variable_genes = True,\n",
    "    n_top_genes = 4000,\n",
    "    use_gpu = True,\n",
    "    max_epochs = None,\n",
    "    train_size = 0.9\n",
    "    \n",
    "):\n",
    "    adata.layers['counts'] = adata.X.copy()\n",
    "    adata.raw = adata\n",
    "    \n",
    "    if use_highly_variable_genes:\n",
    "        print('computing highly variable genes')\n",
    "        sc.pp.highly_variable_genes(\n",
    "            adata,\n",
    "            n_top_genes = n_top_genes,\n",
    "            layer = 'counts',\n",
    "            subset = True,\n",
    "            flavor = 'seurat_v3',\n",
    "        )\n",
    "        \n",
    "    scvi.model.SCVI.setup_anndata(\n",
    "        adata,\n",
    "        layer = 'counts',\n",
    "        batch_key = batch_key,\n",
    "        categorical_covariate_keys = categorical_covariate_keys,\n",
    "        continuous_covariate_keys = continuous_covariate_keys\n",
    "    )\n",
    "    # non default parameters from scVI tutorial and scIB github\n",
    "    # see https://docs.scvi-tools.org/en/stable/tutorials/notebooks/harmonization.html\n",
    "    # and https://github.com/theislab/scib/blob/main/scib/integration.py\n",
    "    model = scvi.model.SCVI(\n",
    "        adata,\n",
    "        n_layers = 2,\n",
    "        n_latent = 30,\n",
    "        gene_likelihood = 'nb'\n",
    "    )\n",
    "    model.train(\n",
    "        use_gpu = use_gpu,\n",
    "        max_epochs = max_epochs,\n",
    "        train_size = train_size\n",
    "    )\n",
    "    adata.obsm['X_scvi'] = model.get_latent_representation()\n",
    "    \n",
    "    print('compute umap from scvi embedding')\n",
    "    sc.pp.neighbors(\n",
    "        adata,\n",
    "        use_rep = 'X_scvi'\n",
    "    )\n",
    "    sc.tl.umap(\n",
    "        adata\n",
    "    )\n",
    "    \n",
    "    return {'data': adata, 'model': model}"
   ]
  },
  {
   "cell_type": "markdown",
   "id": "fb2c70b7",
   "metadata": {},
   "source": [
    "## Loading the packages"
   ]
  },
  {
   "cell_type": "code",
   "execution_count": null,
   "id": "5ce143d3",
   "metadata": {},
   "outputs": [],
   "source": [
    "# Seed for reproducibility\n",
    "import torch\n",
    "import numpy as np\n",
    "import pandas as pd\n",
    "import scanpy as sc\n",
    "from typing import Tuple\n",
    "\n",
    "# scVI imports\n",
    "import scvi\n",
    "# from scvi.dataset import AnnDatasetFromAnnData\n",
    "# from scvi.inference import UnsupervisedTrainer\n",
    "# from scvi.models.vae import VAE\n",
    "\n",
    "torch.manual_seed(0)\n",
    "np.random.seed(0)\n",
    "sc.settings.verbosity = 0  # verbosity: errors (0), warnings (1), info (2), hints (3)"
   ]
  },
  {
   "cell_type": "code",
   "execution_count": null,
   "id": "6beb4c05",
   "metadata": {},
   "outputs": [],
   "source": [
    "import seaborn as sns\n",
    "import matplotlib.pyplot as plt\n",
    "# from scvi.external import CellAssign"
   ]
  },
  {
   "cell_type": "code",
   "execution_count": null,
   "id": "ae5e19c3",
   "metadata": {},
   "outputs": [],
   "source": [
    "sc.set_figure_params(figsize=(4, 4))\n",
    "\n",
    "# for white background of figures (only for docs rendering)\n",
    "%config InlineBackend.print_figure_kwargs={'facecolor' : \"w\"}\n",
    "%config InlineBackend.figure_format='retina'"
   ]
  },
  {
   "cell_type": "markdown",
   "id": "a2cc2564",
   "metadata": {},
   "source": [
    "### Reading in final and pilot experiments"
   ]
  },
  {
   "cell_type": "code",
   "execution_count": null,
   "id": "67d1571b",
   "metadata": {},
   "outputs": [],
   "source": [
    "bm_final = sc.read_h5ad( \"../data/h5ad/\" + \"bm_final_singlet.h5ad\")\n",
    "bm_pilot = sc.read_h5ad( \"../data/h5ad/\" + \"bm_pilot_singlet.h5ad\")"
   ]
  },
  {
   "cell_type": "code",
   "execution_count": null,
   "id": "7d269e82",
   "metadata": {},
   "outputs": [],
   "source": [
    "bm_final.obs_names_make_unique()\n",
    "bm_pilot.obs_names_make_unique()"
   ]
  },
  {
   "cell_type": "code",
   "execution_count": null,
   "id": "7f4b8514",
   "metadata": {},
   "outputs": [],
   "source": [
    "print(bm_final.shape)\n",
    "print(bm_pilot.shape)"
   ]
  },
  {
   "cell_type": "code",
   "execution_count": null,
   "id": "872d0651",
   "metadata": {},
   "outputs": [],
   "source": [
    "bm_final.X[:5, :5].todense()\n"
   ]
  },
  {
   "cell_type": "code",
   "execution_count": null,
   "id": "5ff57b51",
   "metadata": {},
   "outputs": [],
   "source": [
    "bm_final"
   ]
  },
  {
   "cell_type": "code",
   "execution_count": null,
   "id": "d4a5b5e7",
   "metadata": {},
   "outputs": [],
   "source": [
    "bm_final.obs = bm_final.obs.rename(columns={'percent.mt': 'percent_mt'})\n",
    "bm_pilot.obs = bm_pilot.obs.rename(columns={'percent.mt': 'percent_mt'})"
   ]
  },
  {
   "cell_type": "markdown",
   "id": "8f541227",
   "metadata": {},
   "source": [
    "## Preprocessing - done in R"
   ]
  },
  {
   "cell_type": "code",
   "execution_count": null,
   "id": "938cfd1e",
   "metadata": {},
   "outputs": [],
   "source": [
    "# min_genes = 0\n",
    "# min_cells = 3\n",
    "\n",
    "# sc.settings.verbosity = 2\n",
    "# sc.pp.filter_cells(bm, min_genes=min_genes)\n",
    "# sc.pp.filter_genes(bm, min_cells=min_cells)\n",
    "# sc.pp.filter_cells(bm, min_genes=1)"
   ]
  },
  {
   "cell_type": "code",
   "execution_count": null,
   "id": "c0a00b2f",
   "metadata": {},
   "outputs": [],
   "source": [
    "# mito_genes = bm.var_names.str.startswith(\"mt-\")\n",
    "# bm.obs[\"percent_mito\"] = (\n",
    "#     np.sum(bm[:, mito_genes].X, axis=1).A1 / np.sum(bm.X, axis=1).A1\n",
    "# )\n",
    "# bm.obs[\"n_counts\"] = bm.X.sum(axis=1).A1"
   ]
  },
  {
   "cell_type": "code",
   "execution_count": null,
   "id": "97d67100",
   "metadata": {},
   "outputs": [],
   "source": [
    "# (bm.obs['percent_mito']).shape"
   ]
  },
  {
   "cell_type": "code",
   "execution_count": null,
   "id": "848ca0e3",
   "metadata": {},
   "outputs": [],
   "source": [
    "# adata = adata[adata.obs[\"n_genes\"] < 2500, :]\n",
    "# adata = adata[adata.obs[\"percent_mito\"] < 0.05, :]"
   ]
  },
  {
   "cell_type": "code",
   "execution_count": null,
   "id": "7ac0393d",
   "metadata": {},
   "outputs": [],
   "source": [
    "# bm.layers[\"counts\"] = bm.X.copy() # preserve counts\n",
    "# sc.pp.normalize_total(bm, target_sum=1e4)\n",
    "# sc.pp.log1p(bm)\n",
    "# bm.raw = bm # freeze the state in `.raw`"
   ]
  },
  {
   "cell_type": "markdown",
   "id": "9044e701",
   "metadata": {},
   "source": [
    "## Checking QC"
   ]
  },
  {
   "cell_type": "code",
   "execution_count": null,
   "id": "99f72a2c",
   "metadata": {},
   "outputs": [],
   "source": [
    "compute_qc_metrics(bm_final)\n",
    "fig = plot_qc(\n",
    "    bm_final,\n",
    "    sample_id_column = 'HTO_maxID'\n",
    ")\n",
    "fig.set_figwidth(15)\n",
    "fig.set_figheight(bm_final.obs.HTO_maxID.nunique() * 2.5)\n",
    "fig.tight_layout()"
   ]
  },
  {
   "cell_type": "code",
   "execution_count": null,
   "id": "66d80d98",
   "metadata": {},
   "outputs": [],
   "source": [
    "compute_qc_metrics(bm_pilot)\n",
    "fig = plot_qc(\n",
    "    bm_pilot,\n",
    "    sample_id_column = 'HTO_maxID'\n",
    ")\n",
    "fig.set_figwidth(15)\n",
    "fig.set_figheight(bm_final.obs.HTO_maxID.nunique() * 2)\n",
    "fig.tight_layout()"
   ]
  },
  {
   "cell_type": "markdown",
   "id": "d9068d59",
   "metadata": {},
   "source": [
    "## Setting up SC"
   ]
  },
  {
   "cell_type": "code",
   "execution_count": null,
   "id": "aa1ca332",
   "metadata": {},
   "outputs": [],
   "source": [
    "bm_pilot.layers[\"counts\"] = bm_pilot.X.copy()\n",
    "bm_final.layers[\"counts\"] = bm_final.X.copy()"
   ]
  },
  {
   "cell_type": "code",
   "execution_count": null,
   "id": "bd4ab16c",
   "metadata": {},
   "outputs": [],
   "source": [
    "type(bm_pilot)"
   ]
  },
  {
   "cell_type": "markdown",
   "id": "cbbe5978",
   "metadata": {},
   "source": [
    "## Combining the two datasets with all raw counts"
   ]
  },
  {
   "cell_type": "code",
   "execution_count": null,
   "id": "a4cf92f8",
   "metadata": {},
   "outputs": [],
   "source": [
    "adatas = {\n",
    "    \"pilot\": bm_pilot[bm_pilot.obs['HTO_maxID'].isin(['HTO-PBS1', 'HTO-PBS2', 'HTO-SA1'])],\n",
    "    \"final\": bm_final\n",
    "}"
   ]
  },
  {
   "cell_type": "code",
   "execution_count": null,
   "id": "8f8a98e8",
   "metadata": {},
   "outputs": [],
   "source": [
    "bm = ad.concat(adatas, label=\"batch\")"
   ]
  },
  {
   "cell_type": "code",
   "execution_count": null,
   "id": "d649c254",
   "metadata": {},
   "outputs": [],
   "source": [
    "bm.shape"
   ]
  },
  {
   "cell_type": "code",
   "execution_count": null,
   "id": "d2b52bb2",
   "metadata": {},
   "outputs": [],
   "source": [
    "scvi.model.SCVI.setup_anndata(bm, \n",
    "                              layer=\"counts\", \n",
    "                              batch_key=\"batch\", categorical_covariate_keys=[\"HTO_maxID\"],\n",
    "    continuous_covariate_keys=[\"percent_mt\"])"
   ]
  },
  {
   "cell_type": "code",
   "execution_count": null,
   "id": "cc336ff7",
   "metadata": {},
   "outputs": [],
   "source": [
    "vae = scvi.model.SCVI(bm, n_layers=2, n_latent=30, gene_likelihood=\"nb\")"
   ]
  },
  {
   "cell_type": "code",
   "execution_count": null,
   "id": "5ea154f2",
   "metadata": {},
   "outputs": [],
   "source": [
    "vae.train()"
   ]
  },
  {
   "cell_type": "code",
   "execution_count": null,
   "id": "9be7e7f4",
   "metadata": {},
   "outputs": [],
   "source": [
    "bm.raw = bm"
   ]
  },
  {
   "cell_type": "code",
   "execution_count": null,
   "id": "1a6cca77",
   "metadata": {},
   "outputs": [],
   "source": [
    "bm.obsm[\"X_scVI\"] = vae.get_latent_representation()"
   ]
  },
  {
   "cell_type": "code",
   "execution_count": null,
   "id": "7e0cd665",
   "metadata": {},
   "outputs": [],
   "source": [
    "bm.layers[\"scVI_normalized\"] = vae.get_normalized_expression(bm)"
   ]
  },
  {
   "cell_type": "code",
   "execution_count": null,
   "id": "122537cf",
   "metadata": {},
   "outputs": [],
   "source": [
    "bm.layers[\"scVI_normalized\"]"
   ]
  },
  {
   "cell_type": "code",
   "execution_count": null,
   "id": "ac7c49b1",
   "metadata": {},
   "outputs": [],
   "source": [
    "bm.shape"
   ]
  },
  {
   "cell_type": "code",
   "execution_count": null,
   "id": "c1dc8da7",
   "metadata": {},
   "outputs": [],
   "source": [
    "np.max(bm.layers[\"scVI_normalized\"], axis = 1)"
   ]
  },
  {
   "cell_type": "code",
   "execution_count": null,
   "id": "2ab64a2f",
   "metadata": {},
   "outputs": [],
   "source": [
    "sc.pp.neighbors(bm, use_rep=\"X_scVI\")\n",
    "sc.tl.leiden(bm)"
   ]
  },
  {
   "cell_type": "code",
   "execution_count": null,
   "id": "4fc7da71",
   "metadata": {},
   "outputs": [],
   "source": [
    "bm.obsm[\"X_mde\"] = mde(bm.obsm[\"X_scVI\"])"
   ]
  },
  {
   "cell_type": "code",
   "execution_count": null,
   "id": "c692d983",
   "metadata": {},
   "outputs": [],
   "source": [
    "sc.settings.set_figure_params(dpi=80, frameon=False, figsize=(8, 6), facecolor='white')  # low dpi (dots per inch) yields small inline figures"
   ]
  },
  {
   "cell_type": "code",
   "execution_count": null,
   "id": "031eb8a4-8700-4dcf-9d55-63d7bee101a8",
   "metadata": {},
   "outputs": [],
   "source": [
    "import os\n",
    "os.getcwd()"
   ]
  },
  {
   "cell_type": "code",
   "execution_count": null,
   "id": "a0bfa2be",
   "metadata": {},
   "outputs": [],
   "source": [
    "sc.pl.embedding(\n",
    "    bm,\n",
    "    basis=\"X_mde\",\n",
    "    color=[\"batch\", \"leiden\", \"HTO_maxID\"],\n",
    "    frameon=False,\n",
    "    ncols=2,\n",
    "    save = \"integration_all_genes.pdf\"\n",
    ")"
   ]
  },
  {
   "cell_type": "code",
   "execution_count": null,
   "id": "1ba971bb",
   "metadata": {},
   "outputs": [],
   "source": [
    "# # run PCA then generate UMAP plots\n",
    "# bm.raw = bm\n",
    "# sc.pp.scale(bm)\n",
    "# sc.tl.pca(bm)\n",
    "# sc.pp.neighbors(bm, n_pcs=30, n_neighbors=20)\n",
    "# sc.pl.umap(\n",
    "#     bm,\n",
    "#     color=[\"batch\", \"leiden\", \"HTO_maxID\"],\n",
    "#     frameon=False,\n",
    "#     ncols=2,\n",
    "# )"
   ]
  },
  {
   "cell_type": "markdown",
   "id": "8dc566fd",
   "metadata": {},
   "source": [
    "## Combining cells based on highly variable genes"
   ]
  },
  {
   "cell_type": "code",
   "execution_count": null,
   "id": "879e3261",
   "metadata": {},
   "outputs": [],
   "source": [
    "# marker_genes = pd.read_csv('../output/markers_pivot.tsv', sep = \"\\t\", index_col = 0)\n",
    "# marker_genes.head()"
   ]
  },
  {
   "cell_type": "code",
   "execution_count": null,
   "id": "115372c4",
   "metadata": {},
   "outputs": [],
   "source": [
    "hvg_pilot_ = bm_pilot.copy()\n",
    "hvg_final_ = bm_final.copy()"
   ]
  },
  {
   "cell_type": "code",
   "execution_count": null,
   "id": "fbfa6ed0",
   "metadata": {},
   "outputs": [],
   "source": [
    "sc.pp.highly_variable_genes(\n",
    "    hvg_pilot_,\n",
    "    n_top_genes=4000,\n",
    "    subset=True,\n",
    "    layer=\"counts\",\n",
    "    flavor=\"seurat_v3\"\n",
    ")\n",
    "sc.pp.highly_variable_genes(\n",
    "    hvg_final_,\n",
    "    n_top_genes=4000,\n",
    "    subset=True,\n",
    "    layer=\"counts\",\n",
    "    flavor=\"seurat_v3\"\n",
    ")"
   ]
  },
  {
   "cell_type": "code",
   "execution_count": null,
   "id": "0d3be2b0",
   "metadata": {},
   "outputs": [],
   "source": [
    "# hvg_plus_marker = hvg_pilot_.var_names.union(hvg_final_.var_names).union(marker_genes.index)\n",
    "# len(hvg_plus_marker)\n",
    "\n",
    "hvg_geneset = hvg_pilot_.var_names.union(hvg_final_.var_names)\n",
    "len(hvg_geneset)"
   ]
  },
  {
   "cell_type": "code",
   "execution_count": null,
   "id": "0ca1367c",
   "metadata": {},
   "outputs": [],
   "source": [
    "# hvg_pilot = bm_pilot[:, hvg_plus_marker.intersection(bm_pilot.var_names)].copy()\n",
    "# hvg_final = bm_final[:, hvg_plus_marker.intersection(bm_final.var_names)].copy()"
   ]
  },
  {
   "cell_type": "code",
   "execution_count": null,
   "id": "a8cb7ec9",
   "metadata": {},
   "outputs": [],
   "source": [
    "np.max(hvg_pilot_.X, axis = 1).toarray()"
   ]
  },
  {
   "cell_type": "code",
   "execution_count": null,
   "id": "7b223770",
   "metadata": {},
   "outputs": [],
   "source": [
    "hvg_pilot_.shape"
   ]
  },
  {
   "cell_type": "code",
   "execution_count": null,
   "id": "64704604",
   "metadata": {},
   "outputs": [],
   "source": [
    "bm_pilot.shape"
   ]
  },
  {
   "cell_type": "code",
   "execution_count": null,
   "id": "4ae51eb2",
   "metadata": {},
   "outputs": [],
   "source": [
    "adatas_hvg = {\n",
    "    \"pilot\": hvg_pilot_[bm_pilot.obs['HTO_maxID'].isin(['HTO-PBS1', 'HTO-PBS2', 'HTO-SA1'])],\n",
    "    \"final\": hvg_final_\n",
    "}"
   ]
  },
  {
   "cell_type": "code",
   "execution_count": null,
   "id": "2fcb0946",
   "metadata": {},
   "outputs": [],
   "source": [
    "hvg = ad.concat(adatas_hvg, label=\"batch\") "
   ]
  },
  {
   "cell_type": "code",
   "execution_count": null,
   "id": "5087016b",
   "metadata": {},
   "outputs": [],
   "source": [
    "scvi.model.SCVI.setup_anndata(hvg, \n",
    "                              layer=\"counts\", \n",
    "                              batch_key=\"batch\", categorical_covariate_keys=[\"HTO_maxID\"],\n",
    "    continuous_covariate_keys=[\"percent_mt\"])"
   ]
  },
  {
   "cell_type": "code",
   "execution_count": null,
   "id": "a8e413bd",
   "metadata": {},
   "outputs": [],
   "source": [
    "vae_hvg = scvi.model.SCVI(hvg, n_layers=2, n_latent=30, gene_likelihood=\"nb\")"
   ]
  },
  {
   "cell_type": "code",
   "execution_count": null,
   "id": "5abf4671",
   "metadata": {},
   "outputs": [],
   "source": [
    "vae_hvg.train()"
   ]
  },
  {
   "cell_type": "code",
   "execution_count": null,
   "id": "9a8967dc",
   "metadata": {},
   "outputs": [],
   "source": [
    "hvg.raw = hvg"
   ]
  },
  {
   "cell_type": "code",
   "execution_count": null,
   "id": "1971b0f1",
   "metadata": {},
   "outputs": [],
   "source": [
    "hvg.layers['scVI_normalized'] = vae_hvg.get_normalized_expression(hvg)"
   ]
  },
  {
   "cell_type": "code",
   "execution_count": null,
   "id": "200aa764-120b-4e8b-ab69-148d31ef40da",
   "metadata": {},
   "outputs": [],
   "source": [
    "hvg.layers"
   ]
  },
  {
   "cell_type": "code",
   "execution_count": null,
   "id": "7316f759",
   "metadata": {},
   "outputs": [],
   "source": [
    "hvg.obsm[\"X_scVI\"] = vae_hvg.get_latent_representation()"
   ]
  },
  {
   "cell_type": "code",
   "execution_count": null,
   "id": "d4775eca",
   "metadata": {},
   "outputs": [],
   "source": [
    "sc.pp.neighbors(hvg, use_rep=\"X_scVI\")\n",
    "sc.tl.leiden(hvg)"
   ]
  },
  {
   "cell_type": "code",
   "execution_count": null,
   "id": "1b903a31",
   "metadata": {},
   "outputs": [],
   "source": [
    "hvg.obsm[\"X_mde\"] = mde(hvg.obsm[\"X_scVI\"])"
   ]
  },
  {
   "cell_type": "code",
   "execution_count": null,
   "id": "301505da",
   "metadata": {},
   "outputs": [],
   "source": [
    "sc.settings.set_figure_params(dpi=80, frameon=False, figsize=(8, 6), facecolor='white')  # low dpi (dots per inch) yields small inline figures"
   ]
  },
  {
   "cell_type": "code",
   "execution_count": null,
   "id": "26d97058",
   "metadata": {},
   "outputs": [],
   "source": [
    "sc.pl.embedding(\n",
    "    hvg,\n",
    "    basis=\"X_mde\",\n",
    "    color=[\"batch\", \"leiden\", \"HTO_maxID\"],\n",
    "    frameon=False,\n",
    "    ncols=2,\n",
    "    save = \"integration_hvg_genes.pdf\"\n",
    ")"
   ]
  },
  {
   "cell_type": "markdown",
   "id": "f8e478bd",
   "metadata": {},
   "source": [
    "## Saving"
   ]
  },
  {
   "cell_type": "code",
   "execution_count": null,
   "id": "1e68f607",
   "metadata": {},
   "outputs": [],
   "source": [
    "hvg.write(\"../data/h5ad/hvg_integrated_170824.h5ad\")"
   ]
  },
  {
   "cell_type": "code",
   "execution_count": null,
   "id": "3978222e",
   "metadata": {},
   "outputs": [],
   "source": [
    "bm.write(\"../data/h5ad/bm_integrated_170824.h5ad\")"
   ]
  }
 ],
 "metadata": {
  "kernelspec": {
   "display_name": "Python 3 (ipykernel)",
   "language": "python",
   "name": "python3"
  },
  "language_info": {
   "codemirror_mode": {
    "name": "ipython",
    "version": 3
   },
   "file_extension": ".py",
   "mimetype": "text/x-python",
   "name": "python",
   "nbconvert_exporter": "python",
   "pygments_lexer": "ipython3",
   "version": "3.12.2"
  }
 },
 "nbformat": 4,
 "nbformat_minor": 5
}
