{
 "cells": [
  {
   "cell_type": "code",
   "execution_count": null,
   "id": "7d1b985e-c45a-48bc-a53c-adfa9920e9b0",
   "metadata": {},
   "outputs": [],
   "source": [
    "%env PYTHONHASHSEED=0"
   ]
  },
  {
   "cell_type": "code",
   "execution_count": null,
   "id": "cfb6130d",
   "metadata": {},
   "outputs": [],
   "source": [
    "import numpy as np\n",
    "import pandas as pd\n",
    "import os\n",
    "\n",
    "import scanpy as sc\n",
    "from anndata import AnnData, concat\n",
    "from matplotlib.transforms import Bbox\n",
    "\n",
    "# from scvi.model.utils import mde\n",
    "\n",
    "import scvi \n",
    "from matplotlib import pyplot as plt\n",
    "import seaborn as sns\n",
    "\n",
    "from scipy import sparse\n",
    "import gc\n",
    "# from upsetplot import plot as UpSet\n",
    "from itertools import product\n",
    "import networkx as nx\n",
    "\n",
    "from scipy.cluster import hierarchy\n",
    "\n",
    "import re\n",
    "import subprocess\n",
    "\n",
    "import h5py\n",
    "\n",
    "import itertools\n",
    "\n",
    "# from scnym.api import scnym_api\n",
    "\n",
    "# import pymn\n",
    "\n",
    "from collections import Counter"
   ]
  },
  {
   "cell_type": "code",
   "execution_count": null,
   "id": "7516abd0-9ab0-462e-bcef-b565e410ec73",
   "metadata": {},
   "outputs": [],
   "source": [
    "from scvi.model.utils import mde\n"
   ]
  },
  {
   "cell_type": "code",
   "execution_count": null,
   "id": "473f850a",
   "metadata": {},
   "outputs": [],
   "source": [
    "out_dir = \"/home/anna/ClusterProjects/SA_bone_marrow/scfiles/\""
   ]
  },
  {
   "cell_type": "code",
   "execution_count": null,
   "id": "ddbb1068",
   "metadata": {},
   "outputs": [],
   "source": [
    "# import tensorflow as tf\n",
    "# import tensorboard as tb\n",
    "# tf.io.gfile = tb.compat.tensorflow_stub.io.gfile\n",
    "\n",
    "pd.set_option('display.max_columns', 500)"
   ]
  },
  {
   "cell_type": "code",
   "execution_count": null,
   "id": "5187b4a8",
   "metadata": {},
   "outputs": [],
   "source": [
    "### Directory TM_combined_datasets_SA_ann_obs\n",
    "# combined_datasets = sc.read_h5ad(filename = \"../data/h5ad/TM_combined_datasets_SA_ann.h5ad\")\n",
    "# obs_plk = pd.read_pickle(\"../data/h5ad/TM_combined_datasets_SA_ann_obs.plk\")\n",
    "# combined_datasets.obs = obs_plk"
   ]
  },
  {
   "cell_type": "code",
   "execution_count": null,
   "id": "f0701bbd-2717-4d5f-9164-bbc5f8db8c07",
   "metadata": {},
   "outputs": [],
   "source": [
    "hvg = sc.read(\"../data/h5ad/hvg_integrated_170824.h5ad\")"
   ]
  },
  {
   "cell_type": "code",
   "execution_count": null,
   "id": "1a7ff24f-09ea-4d58-904b-980104f9ae85",
   "metadata": {},
   "outputs": [],
   "source": [
    "hvg.obsm"
   ]
  },
  {
   "cell_type": "markdown",
   "id": "54fe0966-be68-4d14-95bd-55e0c149e3f5",
   "metadata": {},
   "source": [
    "### Extracting only SA experiment from the scNym datasets"
   ]
  },
  {
   "cell_type": "code",
   "execution_count": null,
   "id": "ffb157fe",
   "metadata": {},
   "outputs": [],
   "source": [
    "# SA_exps = combined_datasets[combined_datasets.obs[\"study_id\"].isin(['SA_pilot', 'SA_final'])]"
   ]
  },
  {
   "cell_type": "markdown",
   "id": "955e6d18-5318-41f7-8709-bb41ca831fd8",
   "metadata": {},
   "source": [
    "### Reading SA experiment"
   ]
  },
  {
   "cell_type": "code",
   "execution_count": null,
   "id": "ebb061c6-110b-4476-9e0a-414ecc709744",
   "metadata": {},
   "outputs": [],
   "source": [
    "SA_exps = sc.read_h5ad(filename = out_dir + \"SA_exp_scNym_annotated.h5ad\")\n",
    "obs_plk = pd.read_pickle(out_dir + \"SA_exp_scNym_annotated.plk\")\n",
    "SA_exps.obs = obs_plk"
   ]
  },
  {
   "cell_type": "code",
   "execution_count": null,
   "id": "d7f86f71",
   "metadata": {},
   "outputs": [],
   "source": [
    "hvg_cells = hvg.obs_names\n",
    "SA_exp_names = SA_exps.obs_names\n",
    "\n",
    "SA_hvg_cells = [x for x in SA_exp_names if x[:-2] in hvg_cells]\n",
    "\n",
    "SA_cellname_counts = Counter([x[:-2] for x in SA_hvg_cells])\n",
    "SA_unique_names = [x for x in SA_hvg_cells if SA_cellname_counts[x[:-2]] == 1]\n",
    "\n",
    "SA_exps_subset = SA_exps[SA_unique_names]\n",
    "\n",
    "SA_exps_subset.obs_names = [x[:-2] for x in SA_exps_subset.obs_names]\n",
    "\n",
    "hvg_subset = hvg[SA_exps_subset.obs_names]\n",
    "\n",
    "hvg_subset.obs[\"scNym_condensed\"] = SA_exps_subset.obs[\"scNym_condensed\"]\n",
    "hvg_subset.obs[\"scNym_condensed_confidence\"] = SA_exps_subset.obs[\"scNym_condensed_confidence\"]"
   ]
  },
  {
   "cell_type": "code",
   "execution_count": null,
   "id": "4bf9c356-7110-49ab-b34b-678f548a6c96",
   "metadata": {},
   "outputs": [],
   "source": [
    "SA_exps_HSC = SA_exps_subset[SA_exps_subset.obs[\"scNym_condensed\"] == \"hematopoietic precursor cell\"]\n",
    "SA_exps_mature = SA_exps_subset[SA_exps_subset.obs[\"scNym_condensed\"] != \"hematopoietic precursor cell\"]"
   ]
  },
  {
   "cell_type": "markdown",
   "id": "33be8dcb",
   "metadata": {},
   "source": [
    "### HSC population"
   ]
  },
  {
   "cell_type": "code",
   "execution_count": null,
   "id": "68ae438f-75ff-4c13-a30f-8b92b916dc97",
   "metadata": {},
   "outputs": [],
   "source": [
    "hvg_HSC_v2 = hvg_subset[SA_exps_HSC.obs_names.intersection(hvg_subset.obs_names)]\n",
    "# SA_HSC_v2 = SA_exps_HSC[SA_exps_HSC.obs_names.intersection(hvg_subset.obs_names)]"
   ]
  },
  {
   "cell_type": "code",
   "execution_count": null,
   "id": "cfd34177-4c5c-4653-95d0-4ef271b72128",
   "metadata": {},
   "outputs": [],
   "source": [
    "hvg_HSC_v2.shape"
   ]
  },
  {
   "cell_type": "code",
   "execution_count": null,
   "id": "83ed5130-a7b4-45cb-a327-fb59cda692f3",
   "metadata": {},
   "outputs": [],
   "source": [
    "hvg_HSC_v2.layers"
   ]
  },
  {
   "cell_type": "markdown",
   "id": "d3152821-1d7b-44ec-be02-505ecc745800",
   "metadata": {},
   "source": [
    "### Loading the TM HSC SA annotated dataset"
   ]
  },
  {
   "cell_type": "code",
   "execution_count": null,
   "id": "8c992b1e-df40-41b4-a592-8742c5aa5c61",
   "metadata": {},
   "outputs": [],
   "source": [
    "combined_HSC = sc.read_loom(filename = \"../data/loom/TM_combined_HSC_SA_ann.loom\")"
   ]
  },
  {
   "cell_type": "code",
   "execution_count": null,
   "id": "28d1d7b5-9798-45a8-a07e-907b9ce8b435",
   "metadata": {},
   "outputs": [],
   "source": [
    "annotated_SA_HSC = combined_HSC[ combined_HSC.obs[\"study_id\"].isin([\"SA_final\", \"SA_pilot\"])]\n",
    "annotated_SA_HSC.obs_names = annotated_SA_HSC.obs[\"obs_names\"]"
   ]
  },
  {
   "cell_type": "code",
   "execution_count": null,
   "id": "0320ad04-f8b7-46d2-b870-c21668d651d8",
   "metadata": {},
   "outputs": [],
   "source": [
    "del(combined_HSC)"
   ]
  },
  {
   "cell_type": "code",
   "execution_count": null,
   "id": "197e5f3b-9056-41c0-acce-ffbe9973e45f",
   "metadata": {},
   "outputs": [],
   "source": [
    "ann_counts = Counter([x[:-4] for x in annotated_SA_HSC.obs_names])\n",
    "unique_names = [x for x in annotated_SA_HSC.obs_names if ann_counts[x[:-4]] == 1]\n",
    "annotated_SA_HSC = annotated_SA_HSC[unique_names]\n",
    "annotated_SA_HSC.obs_names = [x[:-4] for x in annotated_SA_HSC.obs_names]\n",
    "common_cells = annotated_SA_HSC.obs_names.intersection(hvg_HSC_v2.obs_names)"
   ]
  },
  {
   "cell_type": "code",
   "execution_count": null,
   "id": "a0d8f5a4-2afc-4d43-a7ad-36f4dbf72805",
   "metadata": {},
   "outputs": [],
   "source": [
    "Counter(hvg_HSC_v2.obs[\"scNym_HPC\"])"
   ]
  },
  {
   "cell_type": "code",
   "execution_count": null,
   "id": "e4ae3795-6a4c-40bc-a5a5-4561401741db",
   "metadata": {},
   "outputs": [],
   "source": [
    "hvg_HSC_v2.obs[\"scNym_HPC\"] = annotated_SA_HSC[common_cells].obs[\"scNym_HPC\"]"
   ]
  },
  {
   "cell_type": "code",
   "execution_count": null,
   "id": "92a0b375-8f86-4ff3-b6f3-bd9ebff050dc",
   "metadata": {},
   "outputs": [],
   "source": [
    "sum(common_cells == hvg_HSC_v2.obs_names)"
   ]
  },
  {
   "cell_type": "code",
   "execution_count": null,
   "id": "ec942d8b-590b-403e-b7d9-f1ec41bc66b7",
   "metadata": {},
   "outputs": [],
   "source": [
    "# sc.pp.normalize_total(hvg_HSC_v2, target_sum=1e6)\n",
    "# sc.pp.log1p(hvg_HSC_v2)"
   ]
  },
  {
   "cell_type": "code",
   "execution_count": null,
   "id": "56f19513-c552-443b-a26a-fe222eaf1aea",
   "metadata": {},
   "outputs": [],
   "source": [
    "hvg_HSC_v2.shape"
   ]
  },
  {
   "cell_type": "code",
   "execution_count": null,
   "id": "3d82d752-94ea-48d3-995d-f1e7ce28dd76",
   "metadata": {},
   "outputs": [],
   "source": [
    "hvg_HSC_v2.layers"
   ]
  },
  {
   "cell_type": "code",
   "execution_count": null,
   "id": "a254aa59-5ad9-4c7f-b8c6-08d2a324b2be",
   "metadata": {},
   "outputs": [],
   "source": [
    "hvg_HSC_v2.obsm[\"X_scVI\"]"
   ]
  },
  {
   "cell_type": "code",
   "execution_count": null,
   "id": "0aa10418-ee7e-4da6-93e0-85300a53719a",
   "metadata": {},
   "outputs": [],
   "source": [
    "hvg_HSC_v2.layers"
   ]
  },
  {
   "cell_type": "code",
   "execution_count": null,
   "id": "97ca3712-20cf-4f2b-9a8f-a3be679c040a",
   "metadata": {
    "scrolled": true
   },
   "outputs": [],
   "source": [
    "sc.tl.pca(hvg_HSC_v2, svd_solver='arpack', layer = \"scVI_normalized\")\n",
    "sc.pp.neighbors(hvg_HSC_v2, n_neighbors=10, n_pcs=40, use_rep = \"X_pca\")\n",
    "sc.tl.umap(hvg_HSC_v2, random_state=4567898)\n",
    "sc.tl.leiden(hvg_HSC_v2, resolution=0.25, \n",
    "             n_iterations=100)"
   ]
  },
  {
   "cell_type": "code",
   "execution_count": null,
   "id": "15ccaeb4-de3d-4c50-8fdb-5c378e020724",
   "metadata": {
    "scrolled": true
   },
   "outputs": [],
   "source": [
    "hvg_HSC_v2.obs"
   ]
  },
  {
   "cell_type": "code",
   "execution_count": null,
   "id": "fdf94a4f-cb54-497b-a43e-23b09573318a",
   "metadata": {},
   "outputs": [],
   "source": [
    "sc.set_figure_params(figsize = (8,6))\n",
    "sc.pl.embedding(\n",
    "    hvg_HSC_v2,\n",
    "    basis=\"umap\",\n",
    "    # color=['Mariem_annotation'],\n",
    "    color=['leiden', 'batch', \"scNym_HPC\"],\n",
    "    frameon=False,\n",
    "    ncols=1,\n",
    "    palette = \"tab20\",\n",
    "    save = \"hvg_scVI_HSC_v2_leiden_batch_scNym_HPC.pdf\"\n",
    ")"
   ]
  },
  {
   "cell_type": "code",
   "execution_count": null,
   "id": "e526031d-a6ac-4431-8279-2bfbc412760a",
   "metadata": {},
   "outputs": [],
   "source": [
    "hvg_HSC_v2.obsm[\"X_mde\"] = mde(hvg_HSC_v2.obsm[\"X_scVI\"])"
   ]
  },
  {
   "cell_type": "code",
   "execution_count": null,
   "id": "a4de6535-4994-4af5-ae47-1cc401a2737c",
   "metadata": {},
   "outputs": [],
   "source": [
    "sc.pl.embedding(\n",
    "    hvg_HSC_v2,\n",
    "    basis=\"X_mde\",\n",
    "    color=['leiden', 'batch', \"scNym_HPC\"],\n",
    "    frameon=False,\n",
    "    ncols=1,\n",
    ")"
   ]
  },
  {
   "cell_type": "code",
   "execution_count": null,
   "id": "a62eb701-8f89-4c1b-b44d-6fd2f694481a",
   "metadata": {},
   "outputs": [],
   "source": [
    "sc.set_figure_params(figsize = (8,6))\n",
    "sc.pl.embedding(\n",
    "    hvg_HSC_v2,\n",
    "    basis=\"umap\",\n",
    "    # color=['Mariem_annotation'],\n",
    "    color=['leiden', 'batch', \"scNym_HPC\"],\n",
    "    frameon=False,\n",
    "    ncols=1,\n",
    "    palette = \"tab20\",\n",
    "    save = \"hvg_scVI_HSC_v2_leiden_manual_annotation_legend.pdf\"\n",
    ")"
   ]
  },
  {
   "cell_type": "code",
   "execution_count": null,
   "id": "52076175-dfd9-4427-82a7-0db0b216bfe8",
   "metadata": {},
   "outputs": [],
   "source": [
    "# SA_HSC_v2.write_loom(filename = out_dir + \"SA_HSC_v2_2508.loom\")\n",
    "hvg_HSC_v2.write_loom(filename = out_dir + \"hvg_HSC_v2_2608.loom\")"
   ]
  },
  {
   "cell_type": "markdown",
   "id": "54390e9c-41f3-4281-a3ff-04ba42d30d40",
   "metadata": {},
   "source": [
    "### Modulescoring with HSCs"
   ]
  },
  {
   "cell_type": "code",
   "execution_count": null,
   "id": "d480b732-5feb-481b-884b-9a8cc724b988",
   "metadata": {},
   "outputs": [],
   "source": [
    "HSC_modulescores_quantseq = pd.read_csv(out_dir + \"../Rout/SA.hvg.HSC.Quantseq.modulescores.csv\", index_col = 0)"
   ]
  },
  {
   "cell_type": "code",
   "execution_count": null,
   "id": "2b756add-2eee-42ab-b095-099c41b20699",
   "metadata": {},
   "outputs": [],
   "source": [
    "HSC_modulescores_quantseq.columns"
   ]
  },
  {
   "cell_type": "code",
   "execution_count": null,
   "id": "5bb001b8-d2de-45ce-baaf-5f612f962d96",
   "metadata": {},
   "outputs": [],
   "source": [
    "hvg_HSC_v2.obs_names.equals(HSC_modulescores_quantseq.index)"
   ]
  },
  {
   "cell_type": "code",
   "execution_count": null,
   "id": "c25bba43-dfc4-40c6-ba62-3b48b10281fe",
   "metadata": {},
   "outputs": [],
   "source": [
    "# hvg_HSC_v2.obs = hvg_HSC_v2.obs.join(HSC_modulescores_quantseq)\n",
    "sc.set_figure_params(figsize = (8,6))\n",
    "sc.pl.embedding(\n",
    "    hvg_HSC_v2,\n",
    "    basis = \"umap\", \n",
    "    color=[ \"leiden\", 'Eosinophil', 'Neutrophil', 'Neutrophil_progenitor',\n",
    "       'Eosinophil_progenitor', 'Granulocyte_Monocyte_progenitor',\n",
    "       'Common_Myeloid_progenitor'],\n",
    "    frameon=False,\n",
    "    ncols=3,\n",
    "    save = \"hvg_scVI_HSC_quantseq_modulescore_plots.pdf\"\n",
    ")"
   ]
  },
  {
   "cell_type": "code",
   "execution_count": null,
   "id": "eef23662-5a9a-4cce-b9a6-c67b6e8f2f5a",
   "metadata": {},
   "outputs": [],
   "source": [
    "HSC_modulescores_table2 = pd.read_csv(out_dir + \"../Rout/SA.hvg.HSC.table2.modulescores.csv\", index_col = 0)"
   ]
  },
  {
   "cell_type": "code",
   "execution_count": null,
   "id": "553988cc-a90e-4425-b8ff-60f910df5d75",
   "metadata": {},
   "outputs": [],
   "source": [
    "HSC_modulescores_table2.columns"
   ]
  },
  {
   "cell_type": "code",
   "execution_count": null,
   "id": "c06a4017-297d-4dbe-9b46-6533cba370d6",
   "metadata": {},
   "outputs": [],
   "source": [
    "# hvg_HSC_v2.obs = hvg_HSC_v2.obs.join(HSC_modulescores_table2)\n",
    "sc.set_figure_params(figsize = (8,6))\n",
    "sc.pl.embedding(\n",
    "    hvg_HSC_v2,\n",
    "    basis = \"umap\", \n",
    "    color=[ \"leiden\",'basophil', 'EBM1', 'EBM2', 'eosinophil', 'monocyte',\n",
    "       'multipotent_progenitor_1', 'multipotent_progenitor_2', 'neutrophil'],\n",
    "    frameon=False,\n",
    "    ncols=3,\n",
    "    save = \"hvg_scVI_HSC_table2_modulescore_plots.pdf\"\n",
    ")"
   ]
  },
  {
   "cell_type": "code",
   "execution_count": null,
   "id": "b2e986d8-c32e-45a2-82a5-bbf4b3a969d8",
   "metadata": {},
   "outputs": [],
   "source": [
    "HSC_modulescores_table5 = pd.read_csv(out_dir + \"../Rout/SA.hvg.HSC.table5.modulescores.csv\", index_col = 0)"
   ]
  },
  {
   "cell_type": "code",
   "execution_count": null,
   "id": "7e276e2e-2e37-4db8-8db7-8ca86aa7c5d7",
   "metadata": {},
   "outputs": [],
   "source": [
    "HSC_modulescores_table5.columns"
   ]
  },
  {
   "cell_type": "code",
   "execution_count": null,
   "id": "e8a9e860-e624-473a-9ec3-1783d9c2a976",
   "metadata": {},
   "outputs": [],
   "source": [
    "# hvg_HSC_v2.obs = hvg_HSC_v2.obs.join(HSC_modulescores_table5)\n",
    "sc.set_figure_params(figsize = (8,6))\n",
    "sc.pl.embedding(\n",
    "    hvg_HSC_v2,\n",
    "    basis = \"umap\", \n",
    "    color=[ \"leiden\",'eos_stage1', 'eos_stage2', 'eos_stage3', 'eos_stage4', 'eos_stage5'],\n",
    "    frameon=False,\n",
    "    ncols=3,\n",
    "    save = \"hvg_scVI_HSC_table5_modulescore_plots.pdf\"\n",
    ")"
   ]
  },
  {
   "cell_type": "code",
   "execution_count": null,
   "id": "6168d683-5387-44cb-9104-51a95d74c521",
   "metadata": {},
   "outputs": [],
   "source": [
    "HSC_modulescores_panglodb = pd.read_csv(out_dir + \"../Rout/SA.hvg.HSC.panglodb.modulescores.csv\", index_col = 0)\n",
    "HSC_modulescores_panglodb.columns"
   ]
  },
  {
   "cell_type": "code",
   "execution_count": null,
   "id": "75a778b7-41f4-46f9-8cbb-ddc215905d3e",
   "metadata": {},
   "outputs": [],
   "source": [
    "hvg_HSC_v2.obs = hvg_HSC_v2.obs.join(HSC_modulescores_panglodb)\n",
    "sc.set_figure_params(figsize = (8,6))\n",
    "sc.pl.embedding(\n",
    "    hvg_HSC_v2,\n",
    "    basis = \"umap\", \n",
    "    color=[ \"leiden\",'B_cells_memory', 'B_cells', 'Basophils', 'Dendritic_cells',\n",
    "       'Erythroid-like_and_erythroid_precursor_cells', 'Gamma_delta_T_cells',\n",
    "       'Macrophages', 'Mast_cells', 'Megakaryocytes', 'Monocytes',\n",
    "       'Myeloid-derived_suppressor_cells', 'Natural_killer_T_cells',\n",
    "       'Neutrophils', 'NK_cells', 'Nuocytes', 'Plasma_cells',\n",
    "       'Plasmacytoid_dendritic_cells', 'Platelets', 'Red_pulp_macrophages',\n",
    "       'Reticulocytes', 'T_regulatory_cells'],\n",
    "    frameon=False,\n",
    "    ncols=3,\n",
    "    save = \"hvg_scVI_HSC_panglodb_modulescore_plots.pdf\"\n",
    ")"
   ]
  },
  {
   "cell_type": "markdown",
   "id": "6865a852",
   "metadata": {},
   "source": [
    "### Mature annotations "
   ]
  },
  {
   "cell_type": "code",
   "execution_count": null,
   "id": "072c9953-b6ff-4b73-af33-4c198b3799ab",
   "metadata": {},
   "outputs": [],
   "source": [
    "hvg_mature_v2 = hvg_subset[SA_exps_mature.obs_names.intersection(hvg_subset.obs_names)]\n",
    "# SA_mature_v2 = SA_exps_mature[SA_exps_mature.obs_names.intersection(hvg_subset.obs_names)]"
   ]
  },
  {
   "cell_type": "code",
   "execution_count": null,
   "id": "8d12d0e4-f1c3-4522-9ab1-48f6cafd6024",
   "metadata": {},
   "outputs": [],
   "source": [
    "del hvg_mature_v2.obsm"
   ]
  },
  {
   "cell_type": "code",
   "execution_count": null,
   "id": "6291ee81-71e9-44f0-86b3-8229f67827b9",
   "metadata": {},
   "outputs": [],
   "source": [
    "hvg_mature_v2.layers"
   ]
  },
  {
   "cell_type": "code",
   "execution_count": null,
   "id": "ff5dbc75-2456-4753-b28f-f756ecbb37eb",
   "metadata": {},
   "outputs": [],
   "source": [
    "# sc.pp.normalize_total(hvg_mature_v2, target_sum=1e6)\n",
    "# sc.pp.log1p(hvg_mature_v2)\n",
    "sc.tl.pca(hvg_mature_v2, layer=\"scVI_normalized\")\n",
    "sc.pp.neighbors(hvg_mature_v2, use_rep=\"X_pca\")\n",
    "sc.tl.umap(hvg_mature_v2, random_state=46468856)\n",
    "sc.tl.leiden(hvg_mature_v2, n_iterations=-1, resolution=0.5)"
   ]
  },
  {
   "cell_type": "code",
   "execution_count": null,
   "id": "f076146b-74e0-4166-8a04-01d06e90f369",
   "metadata": {},
   "outputs": [],
   "source": [
    "sc.set_figure_params(figsize = (8,6))\n",
    "sc.pl.embedding(\n",
    "    hvg_mature_v2,\n",
    "    basis=\"umap\",\n",
    "    # color=['Mariem_annotation'],\n",
    "    color=['leiden', 'batch'],\n",
    "    frameon=False,\n",
    "    ncols=1,\n",
    "    palette = \"tab20\",\n",
    "    save = \"hvg_scVI_HSC_v2_leiden_manual_annotation_legend.pdf\"\n",
    ")"
   ]
  },
  {
   "cell_type": "code",
   "execution_count": null,
   "id": "a271b45f-c484-4ff2-a07c-8ab8560a6b3f",
   "metadata": {},
   "outputs": [],
   "source": [
    "out_dir"
   ]
  }
 ],
 "metadata": {
  "kernelspec": {
   "display_name": "Python 3 (ipykernel)",
   "language": "python",
   "name": "python3"
  },
  "language_info": {
   "codemirror_mode": {
    "name": "ipython",
    "version": 3
   },
   "file_extension": ".py",
   "mimetype": "text/x-python",
   "name": "python",
   "nbconvert_exporter": "python",
   "pygments_lexer": "ipython3",
   "version": "3.12.2"
  }
 },
 "nbformat": 4,
 "nbformat_minor": 5
}
