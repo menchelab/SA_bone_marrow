{
 "cells": [
  {
   "cell_type": "code",
   "execution_count": null,
   "id": "038c7ac9",
   "metadata": {},
   "outputs": [],
   "source": [
    "import scanpy as sc\n",
    "# import scvi\n",
    "import glob\n",
    "import os\n",
    "from functools import reduce\n",
    "import anndata as ad\n",
    "import matplotlib.pyplot as plt\n",
    "import numpy as np\n",
    "import seaborn as sns\n",
    "import pandas as pd\n",
    "from scipy.io import mmread\n",
    "import gzip\n",
    "import dynamo as dyn\n",
    "import velocyto as vcy"
   ]
  },
  {
   "cell_type": "markdown",
   "id": "54513c23",
   "metadata": {},
   "source": [
    "### Reading in loom from velocyto"
   ]
  },
  {
   "cell_type": "code",
   "execution_count": null,
   "id": "6624394c",
   "metadata": {},
   "outputs": [],
   "source": [
    "vlm_pilot = vcy.VelocytoLoom(\"../velocyto_run//output/MR_30_10X_SA_PBS_BM_22112021_transcriptome_possorted_genome_bam_IFOE5.loom\")\n",
    "vlm_final = vcy.VelocytoLoom(\"../velocyto_run/output/MR_33_10X_SA_PBS_BM_transcriptome_possorted_genome_bam_IJA5R.loom\")"
   ]
  },
  {
   "cell_type": "markdown",
   "id": "537cf15a",
   "metadata": {},
   "source": [
    "### Configuring dynamo"
   ]
  },
  {
   "cell_type": "code",
   "execution_count": null,
   "id": "c578ca58",
   "metadata": {},
   "outputs": [],
   "source": [
    "dyn.configuration.set_figure_params('dynamo', background='white') # jupter notebooks\n",
    "dyn.configuration.set_figure_params('dynamo', background='black') # presentation\n",
    "# dyn.configuration.set_pub_style() # manuscript"
   ]
  },
  {
   "cell_type": "code",
   "execution_count": null,
   "id": "878eccc6",
   "metadata": {},
   "outputs": [],
   "source": [
    "# bm = sc.read(\"../output/bm_integrated.h5ad\")\n",
    "hvg = sc.read(\"../data/h5ad/hvg_integrated_170824.h5ad\")"
   ]
  },
  {
   "cell_type": "code",
   "execution_count": null,
   "id": "a88ca2d4",
   "metadata": {},
   "outputs": [],
   "source": [
    "hvg.obs['pMito'] =hvg.obs['percent_mt']"
   ]
  },
  {
   "cell_type": "code",
   "execution_count": null,
   "id": "e1056ad8",
   "metadata": {},
   "outputs": [],
   "source": [
    "hvg.obsm['X_scVI']"
   ]
  },
  {
   "cell_type": "code",
   "execution_count": null,
   "id": "d10af12a",
   "metadata": {},
   "outputs": [],
   "source": [
    "dyn.pp.recipe_monocle(hvg)"
   ]
  },
  {
   "cell_type": "code",
   "execution_count": null,
   "id": "caecd46b",
   "metadata": {},
   "outputs": [],
   "source": [
    "hvg.layers"
   ]
  },
  {
   "cell_type": "code",
   "execution_count": null,
   "id": "acb22a17",
   "metadata": {},
   "outputs": [],
   "source": [
    "hvg"
   ]
  },
  {
   "cell_type": "code",
   "execution_count": null,
   "id": "bbfbc851-06b9-49ae-9212-e37002ebb16c",
   "metadata": {},
   "outputs": [],
   "source": [
    "type(hvg)"
   ]
  },
  {
   "cell_type": "code",
   "execution_count": null,
   "id": "ba28004b-d5fe-40ac-9563-bf7874bd726a",
   "metadata": {},
   "outputs": [],
   "source": [
    "del(hvg.uns[\"cell_phase_genes\"])"
   ]
  },
  {
   "cell_type": "code",
   "execution_count": null,
   "id": "ee351c83-12a4-4c23-9a2d-83e00b31993b",
   "metadata": {},
   "outputs": [],
   "source": [
    "hvg.write_h5ad(\"../data/h5ad/hvg_integrated_170824_cell_cycle_phases.h5ad\")"
   ]
  },
  {
   "cell_type": "code",
   "execution_count": null,
   "id": "f1b6836a",
   "metadata": {},
   "outputs": [],
   "source": []
  }
 ],
 "metadata": {
  "kernelspec": {
   "display_name": "Python 3 (ipykernel)",
   "language": "python",
   "name": "python3"
  },
  "language_info": {
   "codemirror_mode": {
    "name": "ipython",
    "version": 3
   },
   "file_extension": ".py",
   "mimetype": "text/x-python",
   "name": "python",
   "nbconvert_exporter": "python",
   "pygments_lexer": "ipython3",
   "version": "3.12.2"
  }
 },
 "nbformat": 4,
 "nbformat_minor": 5
}
